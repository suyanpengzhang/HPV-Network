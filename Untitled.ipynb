{
 "cells": [
  {
   "cell_type": "code",
   "execution_count": 1,
   "id": "05098427",
   "metadata": {},
   "outputs": [],
   "source": [
    "import networkx as nx\n",
    "import numpy as np\n",
    "import pandas as pd\n",
    "import matplotlib.pyplot as plt\n",
    "import random\n",
    "import HPVnetwork as HPVN\n",
    "import warnings\n",
    "import seaborn as sns\n",
    "import gurobipy as gp\n",
    "from gurobipy import GRB\n",
    "import pickle\n",
    "import os\n",
    "from gurobipy import Env, GRB\n",
    "from collections import deque\n",
    "from numpy import linalg as LA\n",
    "from sklearn.linear_model import LogisticRegression\n",
    "from sklearn.model_selection import train_test_split\n",
    "from sklearn.metrics import classification_report, confusion_matrix\n",
    "from scipy import stats\n",
    "import random\n",
    "import matplotlib.pyplot as plt\n"
   ]
  },
  {
   "cell_type": "code",
   "execution_count": 2,
   "id": "3a60d7c6",
   "metadata": {},
   "outputs": [
    {
     "name": "stderr",
     "output_type": "stream",
     "text": [
      "/var/folders/b3/kkdtnh4d4gjgrk45d_yrf4100000gn/T/ipykernel_71866/101493804.py:2: DtypeWarning: Columns (43) have mixed types. Specify dtype option on import or set low_memory=False.\n",
      "  hpvdata = pd.read_csv(file_path)\n"
     ]
    }
   ],
   "source": [
    "file_path = 'Data/hpvdata.csv'\n",
    "hpvdata = pd.read_csv(file_path)\n",
    "hpvdata = hpvdata.dropna(subset=['HPV_VAX_attitu_s35'])\n",
    "Network = []\n",
    "Opt_Solutions = []\n",
    "Greedy_Solutions = []\n",
    "for i in range(60):\n",
    "    with open(\"100_Network_Samples/network\"+str(i)+\".pkl\", \"rb\") as file:\n",
    "        Network.append(pickle.load(file))\n",
    "    with open(\"100_Network_Sols/sol_50_network\"+str(i)+\".pkl\", \"rb\") as file:\n",
    "        Opt_Solutions.append(pickle.load(file))\n",
    "    with open(\"100_Network_Sols/sol_50_greedynetwork\"+str(i)+\".pkl\", \"rb\") as file:\n",
    "        Greedy_Solutions.append(pickle.load(file))"
   ]
  },
  {
   "cell_type": "code",
   "execution_count": 102,
   "id": "1a67f348",
   "metadata": {},
   "outputs": [],
   "source": [
    "with open(\"100_Network_Sols/sol_50_network0.pkl\", \"rb\") as file:\n",
    "        baserho06 = pickle.load(file)\n",
    "with open(\"100_Network_Sols/sol_50_rho_1network0.pkl\", \"rb\") as file:\n",
    "        baserho1 = pickle.load(file)\n",
    "with open(\"100_Network_Sols/sol_50_rho_0network0.pkl\", \"rb\") as file:\n",
    "        baserho0 = pickle.load(file)\n",
    "\n",
    "with open(\"100_Network_Sols/sol_50_p_plus_7network0.pkl\", \"rb\") as file:\n",
    "        baseplus7 = pickle.load(file)\n",
    "with open(\"100_Network_Sols/sol_50_p_plus_9network0.pkl\", \"rb\") as file:\n",
    "        baseplus9 = pickle.load(file)\n",
    "with open(\"100_Network_Sols/sol_50_p_minus_05network0.pkl\", \"rb\") as file:\n",
    "        baseminus05 = pickle.load(file)\n",
    "with open(\"100_Network_Sols/sol_50_p_minus_2network0.pkl\", \"rb\") as file:\n",
    "        baseminus2 = pickle.load(file)"
   ]
  },
  {
   "cell_type": "code",
   "execution_count": 103,
   "id": "13bf0ee3",
   "metadata": {},
   "outputs": [],
   "source": [
    "with open(\"100_Network_Sols/sol_50_greedy_budget_rho06.pkl\", \"rb\") as file:\n",
    "        greedyrho06 = pickle.load(file)\n",
    "with open(\"100_Network_Sols/sol_50_greedy_budget_rho1.pkl\", \"rb\") as file:\n",
    "        greedyrho1 = pickle.load(file)\n",
    "with open(\"100_Network_Sols/sol_50_greedy_budget_rho0.pkl\", \"rb\") as file:\n",
    "        greedyrho0 = pickle.load(file)\n",
    "with open(\"100_Network_Sols/sol_50_greedy_budget_plus7.pkl\", \"rb\") as file:\n",
    "        greedyplus7 = pickle.load(file)\n",
    "with open(\"100_Network_Sols/sol_50_greedy_budget_plus9.pkl\", \"rb\") as file:\n",
    "        greedyplus9 = pickle.load(file)\n",
    "with open(\"100_Network_Sols/sol_50_greedy_budget_minus05.pkl\", \"rb\") as file:\n",
    "        greedyminus05 = pickle.load(file)\n",
    "with open(\"100_Network_Sols/sol_50_greedy_budget_minus2.pkl\", \"rb\") as file:\n",
    "        greedyminus2 = pickle.load(file)\n"
   ]
  },
  {
   "cell_type": "code",
   "execution_count": 160,
   "id": "0b7c4183",
   "metadata": {},
   "outputs": [
    {
     "name": "stdout",
     "output_type": "stream",
     "text": [
      "0\n"
     ]
    }
   ],
   "source": [
    "num_pos_greedy = []\n",
    "for i in range(1):\n",
    "    print(i)\n",
    "    Network[i].run_linear_threshold_model(lambda_ = 0.6,threshold_pos=8,threshold_neg=-2,inital_threshold=[12,24],time_periods=10,x=baserho06)\n",
    "    num_pos_greedy.append(sum(np.array([1 if Network[i].LTM[-1].nodes.data('status')[j]==1 else 0 for j in Network[i].LTM[-1].nodes])))\n"
   ]
  },
  {
   "cell_type": "code",
   "execution_count": 161,
   "id": "ebaa0182",
   "metadata": {},
   "outputs": [
    {
     "data": {
      "text/plain": [
       "[806]"
      ]
     },
     "execution_count": 161,
     "metadata": {},
     "output_type": "execute_result"
    }
   ],
   "source": [
    "num_pos_greedy"
   ]
  },
  {
   "cell_type": "code",
   "execution_count": 73,
   "id": "66629f6d",
   "metadata": {},
   "outputs": [],
   "source": [
    "# generate random solutions\n",
    "random_sol = []\n",
    "for i in range(60):\n",
    "    candidates = []\n",
    "    for j in Network[i].G.nodes:\n",
    "        if Network[i].G.nodes.data('initial attitude')[j]>=12:\n",
    "            candidates.append(j)\n",
    "    random_sol.append(random.sample(candidates, 50))"
   ]
  },
  {
   "cell_type": "code",
   "execution_count": 100,
   "id": "f97aa973",
   "metadata": {},
   "outputs": [
    {
     "name": "stdout",
     "output_type": "stream",
     "text": [
      "0\n"
     ]
    }
   ],
   "source": [
    "# Compute the solutions lowest centraility score\n",
    "num_pos_centralityscore = []\n",
    "for i in range(1):\n",
    "    print(i)\n",
    "    Network[i].run_linear_threshold_model(lambda_ = 0.6,threshold_pos=7,threshold_neg=-1,inital_threshold=[12,24],time_periods=10,x=[])\n",
    "    num_pos_centralityscore.append(sum(np.array([1 if Network[i].LTM[-1].nodes.data('status')[j]==1 else 0 for j in Network[i].LTM[-1].nodes])))\n",
    "#with open(\"Results_section/num_pos_centralityscore2.pkl\", 'wb') as f:\n",
    "#        pickle.dump(num_pos_centralityscore, f)"
   ]
  },
  {
   "cell_type": "code",
   "execution_count": 101,
   "id": "d973b0d5",
   "metadata": {},
   "outputs": [
    {
     "data": {
      "text/plain": [
       "[739]"
      ]
     },
     "execution_count": 101,
     "metadata": {},
     "output_type": "execute_result"
    }
   ],
   "source": [
    "num_pos_centralityscore"
   ]
  },
  {
   "cell_type": "code",
   "execution_count": null,
   "id": "8a763145",
   "metadata": {},
   "outputs": [],
   "source": []
  }
 ],
 "metadata": {
  "kernelspec": {
   "display_name": "Python 3 (ipykernel)",
   "language": "python",
   "name": "python3"
  },
  "language_info": {
   "codemirror_mode": {
    "name": "ipython",
    "version": 3
   },
   "file_extension": ".py",
   "mimetype": "text/x-python",
   "name": "python",
   "nbconvert_exporter": "python",
   "pygments_lexer": "ipython3",
   "version": "3.9.13"
  },
  "varInspector": {
   "cols": {
    "lenName": 16,
    "lenType": 16,
    "lenVar": 40
   },
   "kernels_config": {
    "python": {
     "delete_cmd_postfix": "",
     "delete_cmd_prefix": "del ",
     "library": "var_list.py",
     "varRefreshCmd": "print(var_dic_list())"
    },
    "r": {
     "delete_cmd_postfix": ") ",
     "delete_cmd_prefix": "rm(",
     "library": "var_list.r",
     "varRefreshCmd": "cat(var_dic_list()) "
    }
   },
   "types_to_exclude": [
    "module",
    "function",
    "builtin_function_or_method",
    "instance",
    "_Feature"
   ],
   "window_display": false
  }
 },
 "nbformat": 4,
 "nbformat_minor": 5
}
