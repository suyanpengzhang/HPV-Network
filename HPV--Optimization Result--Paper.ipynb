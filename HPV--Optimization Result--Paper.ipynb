{
 "cells": [
  {
   "cell_type": "code",
   "execution_count": 1,
   "id": "7497a76c",
   "metadata": {},
   "outputs": [
    {
     "name": "stdout",
     "output_type": "stream",
     "text": [
      "Intel MKL WARNING: Support of Intel(R) Streaming SIMD Extensions 4.2 (Intel(R) SSE4.2) enabled only processors has been deprecated. Intel oneAPI Math Kernel Library 2025.0 will require Intel(R) Advanced Vector Extensions (Intel(R) AVX) instructions.\n",
      "Intel MKL WARNING: Support of Intel(R) Streaming SIMD Extensions 4.2 (Intel(R) SSE4.2) enabled only processors has been deprecated. Intel oneAPI Math Kernel Library 2025.0 will require Intel(R) Advanced Vector Extensions (Intel(R) AVX) instructions.\n"
     ]
    }
   ],
   "source": [
    "import networkx as nx\n",
    "import numpy as np\n",
    "import pandas as pd\n",
    "import matplotlib.pyplot as plt\n",
    "import random\n",
    "import HPVnetwork as HPVN\n",
    "import warnings\n",
    "import seaborn as sns\n",
    "import gurobipy as gp\n",
    "from gurobipy import GRB\n",
    "import pickle\n",
    "import os\n",
    "from gurobipy import Env, GRB\n",
    "from collections import deque\n",
    "from numpy import linalg as LA\n",
    "from sklearn.linear_model import LogisticRegression\n",
    "from sklearn.model_selection import train_test_split\n",
    "from sklearn.metrics import classification_report, confusion_matrix\n",
    "from scipy import stats\n",
    "import random\n",
    "import matplotlib.pyplot as plt\n"
   ]
  },
  {
   "cell_type": "markdown",
   "id": "2a0bca4d",
   "metadata": {},
   "source": [
    "### Import networks and solutions"
   ]
  },
  {
   "cell_type": "code",
   "execution_count": 5,
   "id": "554a3eda",
   "metadata": {},
   "outputs": [
    {
     "name": "stderr",
     "output_type": "stream",
     "text": [
      "/var/folders/b3/kkdtnh4d4gjgrk45d_yrf4100000gn/T/ipykernel_37234/101493804.py:2: DtypeWarning: Columns (43) have mixed types. Specify dtype option on import or set low_memory=False.\n",
      "  hpvdata = pd.read_csv(file_path)\n"
     ]
    }
   ],
   "source": [
    "file_path = 'Data/hpvdata.csv'\n",
    "hpvdata = pd.read_csv(file_path)\n",
    "hpvdata = hpvdata.dropna(subset=['HPV_VAX_attitu_s35'])\n",
    "Network = []\n",
    "Opt_Solutions = []\n",
    "Greedy_Solutions = []\n",
    "for i in range(60):\n",
    "    with open(\"100_Network_Samples/network\"+str(i)+\".pkl\", \"rb\") as file:\n",
    "        Network.append(pickle.load(file))\n",
    "    with open(\"100_Network_Sols/sol_50_network\"+str(i)+\".pkl\", \"rb\") as file:\n",
    "        Opt_Solutions.append(pickle.load(file))\n",
    "    with open(\"100_Network_Sols/sol_50_greedynetwork\"+str(i)+\".pkl\", \"rb\") as file:\n",
    "        Greedy_Solutions.append(pickle.load(file))"
   ]
  },
  {
   "cell_type": "code",
   "execution_count": 3,
   "id": "cd9e3376",
   "metadata": {},
   "outputs": [],
   "source": [
    "with open(\"100_Network_Sols/sol_50_network0.pkl\", \"rb\") as file:\n",
    "        base8 = pickle.load(file)\n",
    "with open(\"100_Network_Sols/sol_50_rho_1network0.pkl\", \"rb\") as file:\n",
    "        base9 = pickle.load(file)\n",
    "with open(\"100_Network_Sols/sol_50_rho_0network0.pkl\", \"rb\") as file:\n",
    "        base7 = pickle.load(file)"
   ]
  },
  {
   "cell_type": "code",
   "execution_count": 4,
   "id": "5d0a6e11",
   "metadata": {},
   "outputs": [
    {
     "data": {
      "text/plain": [
       "19"
      ]
     },
     "execution_count": 4,
     "metadata": {},
     "output_type": "execute_result"
    }
   ],
   "source": [
    "len(set(base8).intersection(set(base7)))"
   ]
  },
  {
   "cell_type": "markdown",
   "id": "5567ad3c",
   "metadata": {},
   "source": [
    "# degree distribution"
   ]
  },
  {
   "cell_type": "raw",
   "id": "4950a25e",
   "metadata": {},
   "source": [
    "degrees = np.zeros((60,1035))\n",
    "#font = {'family' : 'normal',\n",
    "#        'weight' : 'bold',\n",
    "#        'size'   : 18}\n",
    "\n",
    "#plt.rc('font', **font)\n",
    "for i in range(60):\n",
    "    degrees[i,:] = sorted((d for n, d in Network[i].G.degree()), reverse=True)\n",
    "plt.figure(figsize=(6,4),dpi=600)\n",
    "for i in range(60):\n",
    "    plt.plot(degrees[i], marker=\"o\")\n",
    "plt.title(\"Degree Rank Plot\",size=18)\n",
    "plt.ylabel(\"Degree\",size=18)\n",
    "plt.xlabel(\"Rank\",size=18)\n",
    "plt.savefig('figures/degree_distribution.eps', bbox_inches=\"tight\", format='eps',dpi=600)\n"
   ]
  },
  {
   "cell_type": "markdown",
   "id": "9a9ac96e",
   "metadata": {},
   "source": [
    "# Convergence"
   ]
  },
  {
   "cell_type": "raw",
   "id": "ebe2230c",
   "metadata": {},
   "source": [
    "def run_LTM(nt):\n",
    "    lambda_ = 0.6\n",
    "    threshold_pos=8\n",
    "    threshold_neg=-1\n",
    "    num_nodes = len(nt.G.nodes)\n",
    "    edge = np.zeros((num_nodes,num_nodes))\n",
    "    for i in range(num_nodes):\n",
    "        for j in range(num_nodes):\n",
    "            if (i,j) in nt.G.edges:\n",
    "                edge[i,j] = nt.G.edges[(i,j)]['weight']\n",
    "    initial_status = [nt.G.nodes[i]['initial attitude'] for i in nt.G.nodes]\n",
    "    for i in range(len(initial_status)):\n",
    "        if initial_status[i]>=24:\n",
    "            initial_status[i]=-1\n",
    "        elif initial_status[i]<12:\n",
    "            initial_status[i]=1\n",
    "        else:\n",
    "            initial_status[i]=0\n",
    "    a0plus = np.array([1 if i==1 else 0 for i in initial_status])\n",
    "    a0minus = np.array([1 if i==-1 else 0 for i in initial_status])\n",
    "# =============================================================================\n",
    "#     threshold_pos = 8\n",
    "#     threshold_neg = -1\n",
    "#     lambda_ = 0.6\n",
    "# =============================================================================\n",
    "    T_plus = np.zeros(num_nodes)\n",
    "    T_minus= np.zeros(num_nodes)\n",
    "    for i in range(num_nodes):\n",
    "        T_plus[i] = threshold_pos-lambda_*threshold_pos*nt.G.nodes[i]['listen_score']\n",
    "        T_minus[i] = threshold_neg+lambda_*threshold_neg*nt.G.nodes[i]['listen_score']\n",
    "    change=True\n",
    "    t=0\n",
    "    while change == True:\n",
    "        influence_matrix = np.transpose(edge)@a0plus-np.transpose(edge)@a0minus\n",
    "        count =0\n",
    "        for i in range(num_nodes):\n",
    "            if influence_matrix[i]-T_plus[i]>=0:\n",
    "                if a0plus[i]==0 or a0minus[i]==1:\n",
    "                    count+=1\n",
    "                a0plus[i]=1\n",
    "                a0minus[i]=0\n",
    "            elif influence_matrix[i]-T_minus[i]<=0:\n",
    "                if a0plus[i]==1 or a0minus[i]==0:\n",
    "                    count+=1\n",
    "                a0plus[i]=0\n",
    "                a0minus[i]=1\n",
    "        change = (count>0)\n",
    "        t+=1\n",
    "    return sum(a0plus),sum(a0minus),t-1"
   ]
  },
  {
   "cell_type": "raw",
   "id": "88d24dc3",
   "metadata": {},
   "source": [
    "times = []\n",
    "aa = []\n",
    "bb = []\n",
    "for i in range(60):\n",
    "    a,b,time = run_LTM(Network[i])\n",
    "    times.append(time)\n",
    "    aa.append(a)\n",
    "    bb.append(b)"
   ]
  },
  {
   "cell_type": "raw",
   "id": "20d957d7",
   "metadata": {},
   "source": [
    "print(np.mean(times))\n",
    "print(np.std(times))\n",
    "print(min(times))\n",
    "print(max(times))"
   ]
  },
  {
   "cell_type": "raw",
   "id": "ece4625c",
   "metadata": {},
   "source": [
    "print(np.mean(aa))\n",
    "print(np.std(aa))\n",
    "print(min(aa))\n",
    "print(max(aa))"
   ]
  },
  {
   "cell_type": "raw",
   "id": "e215ca3e",
   "metadata": {},
   "source": [
    "print(np.mean(bb))\n",
    "print(np.std(bb))\n",
    "print(min(bb))\n",
    "print(max(bb))"
   ]
  },
  {
   "cell_type": "markdown",
   "id": "95aec526",
   "metadata": {},
   "source": [
    "# Check for convergence"
   ]
  },
  {
   "cell_type": "raw",
   "id": "25875d6c",
   "metadata": {},
   "source": [
    "num_checked = []\n",
    "for i in range(60):\n",
    "    print(i)\n",
    "    shortest_length = []\n",
    "    length = dict(nx.all_pairs_shortest_path_length(Network[i].G))\n",
    "    for key in length.keys():\n",
    "        for key2 in length[key].keys():\n",
    "            shortest_length.append(length[key][key2]) \n",
    "    dmax = max(shortest_length)\n",
    "    Network[i].run_linear_threshold_model(lambda_ = 0.6,threshold_pos=8,threshold_neg=-1,inital_threshold=[12,24],time_periods=10,x=Opt_Solutions[i])\n",
    "    con_T = 0\n",
    "    for t in range(1,10):\n",
    "        if sum(np.array([Network[i].LTM[t].nodes.data('status')[j] for j in Network[i].LTM[t].nodes]))==sum(np.array([Network[i].LTM[t-1].nodes.data('status')[j] for j in Network[i].LTM[t-1].nodes])):\n",
    "            con_T = t-1\n",
    "    if con_T<=dmax*2:\n",
    "        num_checked.append(1)\n",
    "    else:\n",
    "        num_checked.append(0)\n",
    "        print('bad')\n"
   ]
  },
  {
   "cell_type": "raw",
   "id": "f56e6712",
   "metadata": {},
   "source": [
    "t_star = []\n",
    "for i in range(60):\n",
    "    nt = Network[i]\n",
    "    lambda_ = 0.6\n",
    "    threshold_pos=8\n",
    "    threshold_neg=-1\n",
    "    num_nodes = len(nt.G.nodes)\n",
    "    edge = np.zeros((num_nodes,num_nodes))\n",
    "    for i in range(num_nodes):\n",
    "        for j in range(num_nodes):\n",
    "            if (i,j) in nt.G.edges:\n",
    "                edge[i,j] = nt.G.edges[(i,j)]['weight']\n",
    "    initial_status = [nt.G.nodes[i]['initial attitude'] for i in nt.G.nodes]\n",
    "    for i in range(len(initial_status)):\n",
    "        if initial_status[i]>=24:\n",
    "            initial_status[i]=-1\n",
    "        elif initial_status[i]<12:\n",
    "            initial_status[i]=1\n",
    "        else:\n",
    "            initial_status[i]=0\n",
    "    a0plus = np.array([1 if i==1 else 0 for i in initial_status])\n",
    "    a0minus = np.array([1 if i==-1 else 0 for i in initial_status])\n",
    "# =============================================================================\n",
    "#     threshold_pos = 8\n",
    "#     threshold_neg = -1\n",
    "#     lambda_ = 0.6\n",
    "# =============================================================================\n",
    "    T_plus = np.zeros(num_nodes)\n",
    "    T_minus= np.zeros(num_nodes)\n",
    "    for i in range(num_nodes):\n",
    "        T_plus[i] = threshold_pos-lambda_*threshold_pos*nt.G.nodes[i]['listen_score']\n",
    "        T_minus[i] = threshold_neg+lambda_*threshold_neg*nt.G.nodes[i]['listen_score']\n",
    "    flag=True\n",
    "    tt=0\n",
    "    lamb = 1.2\n",
    "    while flag:\n",
    "        T_plus=T_plus*lamb\n",
    "        T_minus=T_minus*lamb\n",
    "        if min(T_plus-np.sum(edge,axis=0))>0:\n",
    "            if min(T_minus+np.sum(edge,axis=0))<0:\n",
    "                flag=False\n",
    "        tt+=1\n",
    "    t_star.append(tt)\n",
    "    \n",
    "        \n",
    "        \n"
   ]
  },
  {
   "cell_type": "raw",
   "id": "4aea9e01",
   "metadata": {},
   "source": [
    "np.mean(t_star)"
   ]
  },
  {
   "cell_type": "raw",
   "id": "e22e5899",
   "metadata": {},
   "source": [
    "with open(\"iterations_df.pkl\", \"rb\") as file:\n",
    "    iter_df=pickle.load(file)\n"
   ]
  },
  {
   "cell_type": "raw",
   "id": "d1bb919c",
   "metadata": {},
   "source": [
    "iter_df['lambda'].value_counts()"
   ]
  },
  {
   "cell_type": "raw",
   "id": "64878175",
   "metadata": {},
   "source": [
    "ddf = iter_df[iter_df['t_neg']>=-1]\n",
    "#ddf = ddf[ddf['lambda']<0.7]\n",
    "ddf = ddf[ddf['t_pos']<=8]\n",
    "ddf = ddf[ddf['t_pos']>=8]\n",
    "ddf = ddf[ddf['t_neg']<=-1]\n",
    "#ddf = ddf[ddf['t_neg']>=-1]"
   ]
  },
  {
   "cell_type": "raw",
   "id": "ed796621",
   "metadata": {},
   "source": [
    "np.mean(iter_df['iter'])"
   ]
  },
  {
   "cell_type": "markdown",
   "id": "32fa8ae1",
   "metadata": {},
   "source": [
    "## Compute the number of positives"
   ]
  },
  {
   "cell_type": "raw",
   "id": "6ba50593",
   "metadata": {},
   "source": [
    "num_pos_greedy = []\n",
    "for i in range(60):\n",
    "    print(i)\n",
    "    Network[i].run_linear_threshold_model(lambda_ = 0.6,threshold_pos=8,threshold_neg=-1,inital_threshold=[12,24],time_periods=10,x=Greedy_Solutions[i])\n",
    "    num_pos_greedy.append(sum(np.array([1 if Network[i].LTM[-1].nodes.data('status')[j]==1 else 0 for j in Network[i].LTM[-1].nodes])))\n",
    "with open(\"Results_section/num_pos_greedy.pkl\", 'wb') as f:\n",
    "        pickle.dump(num_pos_greedy, f)"
   ]
  },
  {
   "cell_type": "code",
   "execution_count": 7,
   "id": "e6b85286",
   "metadata": {},
   "outputs": [],
   "source": [
    "with open(\"Results_section/num_pos_greedy.pkl\", \"rb\") as file:\n",
    "    num_pos_greedy = pickle.load(file)"
   ]
  },
  {
   "cell_type": "raw",
   "id": "9723376b",
   "metadata": {},
   "source": [
    "num_pos_optimization = []\n",
    "for i in range(60):\n",
    "    print(i)\n",
    "    Network[i].run_linear_threshold_model(lambda_ = 0.6,threshold_pos=8,threshold_neg=-1,inital_threshold=[12,24],time_periods=10,x=Opt_Solutions[i])\n",
    "    num_pos_optimization.append(sum(np.array([1 if Network[i].LTM[-1].nodes.data('status')[j]==1 else 0 for j in Network[i].LTM[-1].nodes])))\n",
    "with open(\"Results_section/num_pos_optimization.pkl\", 'wb') as f:\n",
    "        pickle.dump(num_pos_optimization, f)"
   ]
  },
  {
   "cell_type": "code",
   "execution_count": 8,
   "id": "a611dcdc",
   "metadata": {},
   "outputs": [],
   "source": [
    "with open(\"Results_section/num_pos_optimization.pkl\", \"rb\") as file:\n",
    "    num_pos_optimization = pickle.load(file)"
   ]
  },
  {
   "cell_type": "code",
   "execution_count": 9,
   "id": "65334a83",
   "metadata": {},
   "outputs": [],
   "source": [
    "#generate solution with highest HPV score\n",
    "highscore_sol = []\n",
    "for i in range(60):\n",
    "    candidates = {}\n",
    "    for j in Network[i].G.nodes:\n",
    "        if Network[i].G.nodes.data('initial attitude')[j]>=12:\n",
    "            candidates[j]=Network[i].G.nodes.data('initial attitude')[j]\n",
    "    highscore_sol.append(list(sorted(candidates, key=candidates.get, reverse=True)[:50]))"
   ]
  },
  {
   "cell_type": "raw",
   "id": "bc3dc888",
   "metadata": {},
   "source": [
    "# Compute the solutions highest HPV score\n",
    "num_pos_highscore = []\n",
    "for i in range(60):\n",
    "    print(i)\n",
    "    Network[i].run_linear_threshold_model(lambda_ = 0.6,threshold_pos=8,threshold_neg=-1,inital_threshold=[12,24],time_periods=10,x=highscore_sol[i])\n",
    "    num_pos_highscore.append(sum(np.array([1 if Network[i].LTM[-1].nodes.data('status')[j]==1 else 0 for j in Network[i].LTM[-1].nodes])))\n",
    "with open(\"Results_section/num_pos_highscore.pkl\", 'wb') as f:\n",
    "        pickle.dump(num_pos_highscore, f)"
   ]
  },
  {
   "cell_type": "code",
   "execution_count": 10,
   "id": "3d8d2e0e",
   "metadata": {},
   "outputs": [],
   "source": [
    "with open(\"Results_section/num_pos_highscore.pkl\", \"rb\") as file:\n",
    "    num_pos_highscore = pickle.load(file)"
   ]
  },
  {
   "cell_type": "code",
   "execution_count": 11,
   "id": "e14acfa2",
   "metadata": {},
   "outputs": [],
   "source": [
    "# generate random solutions\n",
    "random_sol = []\n",
    "for i in range(60):\n",
    "    candidates = []\n",
    "    for j in Network[i].G.nodes:\n",
    "        if Network[i].G.nodes.data('initial attitude')[j]>=12:\n",
    "            candidates.append(j)\n",
    "    random_sol.append(random.sample(candidates, 50))"
   ]
  },
  {
   "cell_type": "raw",
   "id": "79bf124f",
   "metadata": {},
   "source": [
    "# Compute the solutions using randomness\n",
    "num_pos_random = []\n",
    "for i in range(60):\n",
    "    print(i)\n",
    "    Network[i].run_linear_threshold_model(lambda_ = 0.6,threshold_pos=8,threshold_neg=-1,inital_threshold=[12,24],time_periods=10,x=random_sol[i])\n",
    "    num_pos_random.append(sum(np.array([1 if Network[i].LTM[-1].nodes.data('status')[j]==1 else 0 for j in Network[i].LTM[-1].nodes])))\n",
    "with open(\"Results_section/num_pos_random.pkl\", 'wb') as f:\n",
    "        pickle.dump(num_pos_random, f)"
   ]
  },
  {
   "cell_type": "code",
   "execution_count": 12,
   "id": "6b80c0bc",
   "metadata": {},
   "outputs": [],
   "source": [
    "with open(\"Results_section/num_pos_random.pkl\", \"rb\") as file:\n",
    "    num_pos_random = pickle.load(file)"
   ]
  },
  {
   "cell_type": "code",
   "execution_count": 13,
   "id": "91b2f279",
   "metadata": {},
   "outputs": [],
   "source": [
    "# Generate the solutions using most contacts\n",
    "contact_sol = []\n",
    "for i in range(60):\n",
    "    candidates = {}\n",
    "    for j in Network[i].G.nodes:\n",
    "        if Network[i].G.nodes.data('initial attitude')[j]>=12:\n",
    "            candidates[j]=Network[i].G.degree[j]\n",
    "    contact_sol.append(list(sorted(candidates, key=candidates.get, reverse=True)[:50]))\n"
   ]
  },
  {
   "cell_type": "raw",
   "id": "da60c8b5",
   "metadata": {},
   "source": [
    "# Compute the solutions most contacts\n",
    "num_pos_contact = []\n",
    "for i in range(60):\n",
    "    print(i)\n",
    "    Network[i].run_linear_threshold_model(lambda_ = 0.6,threshold_pos=8,threshold_neg=-1,inital_threshold=[12,24],time_periods=10,x=contact_sol[i])\n",
    "    num_pos_contact.append(sum(np.array([1 if Network[i].LTM[-1].nodes.data('status')[j]==1 else 0 for j in Network[i].LTM[-1].nodes])))\n",
    "with open(\"Results_section/num_pos_contact.pkl\", 'wb') as f:\n",
    "        pickle.dump(num_pos_contact, f)"
   ]
  },
  {
   "cell_type": "code",
   "execution_count": 14,
   "id": "6f5f2a64",
   "metadata": {},
   "outputs": [],
   "source": [
    "with open(\"Results_section/num_pos_contact.pkl\", \"rb\") as file:\n",
    "    num_pos_contact = pickle.load(file)"
   ]
  },
  {
   "cell_type": "code",
   "execution_count": 15,
   "id": "95dd3bb8",
   "metadata": {},
   "outputs": [],
   "source": [
    "diff1 = [num_pos_optimization[i]-num_pos_random[i] for i in range(60)]\n",
    "diff2 = [num_pos_optimization[i]-num_pos_contact[i] for i in range(60)]"
   ]
  },
  {
   "cell_type": "code",
   "execution_count": 17,
   "id": "1f803bd3",
   "metadata": {},
   "outputs": [
    {
     "name": "stderr",
     "output_type": "stream",
     "text": [
      "The PostScript backend does not support transparency; partially transparent artists will be rendered opaque.\n"
     ]
    },
    {
     "data": {
      "image/png": "[encoded data removed]",
      "text/plain": [
       "<Figure size 640x480 with 1 Axes>"
      ]
     },
     "metadata": {},
     "output_type": "display_data"
    }
   ],
   "source": [
    "plt.plot(num_pos_optimization,label='MILP')\n",
    "plt.plot(num_pos_random,label='Random')\n",
    "plt.plot(num_pos_contact,label='Degree')\n",
    "plt.plot(num_pos_highscore,label='HPV attitude')\n",
    "plt.plot(num_pos_greedy,label='Greedy')\n",
    "plt.legend(fontsize=18)\n",
    "plt.legend(bbox_to_anchor=(1, 1))\n",
    "plt.xlabel('Networks',fontsize=18)\n",
    "plt.ylabel('Number of Positive Nodes',fontsize=18)\n",
    "\n",
    "plt.savefig('figures/optimizatoin_results_greedy.eps', bbox_inches=\"tight\", format='eps',dpi=600)\n",
    "plt.show()"
   ]
  },
  {
   "cell_type": "code",
   "execution_count": 35,
   "id": "302a567c",
   "metadata": {},
   "outputs": [
    {
     "data": {
      "text/plain": [
       "array([469., 469., 469., 469., 469., 469., 469., 469., 469., 469., 469.,\n",
       "       469., 469., 469., 469., 469., 469., 469., 469., 469., 469., 469.,\n",
       "       469., 469., 469., 469., 469., 469., 469., 469., 469., 469., 469.,\n",
       "       469., 469., 469., 469., 469., 469., 469., 469., 469., 469., 469.,\n",
       "       469., 469., 469., 469., 469., 469., 469., 469., 469., 469., 469.,\n",
       "       469., 469., 469., 469., 469.])"
      ]
     },
     "execution_count": 35,
     "metadata": {},
     "output_type": "execute_result"
    }
   ],
   "source": [
    "initial_positives=np.zeros(60)\n",
    "for i in range(60):\n",
    "     for j in Network[i].G.nodes:\n",
    "        if Network[i].G.nodes.data('initial attitude')[j]<12:\n",
    "            initial_positives[i]+=1\n",
    "initial_positives    "
   ]
  },
  {
   "cell_type": "code",
   "execution_count": 47,
   "id": "fa7f31d0",
   "metadata": {},
   "outputs": [
    {
     "data": {
      "text/plain": [
       "806"
      ]
     },
     "execution_count": 47,
     "metadata": {},
     "output_type": "execute_result"
    }
   ],
   "source": [
    "num_pos_optimization[0]"
   ]
  },
  {
   "cell_type": "markdown",
   "id": "895a5f7b",
   "metadata": {},
   "source": [
    "### Who do we select?"
   ]
  },
  {
   "cell_type": "code",
   "execution_count": 52,
   "id": "dad54e10",
   "metadata": {},
   "outputs": [
    {
     "name": "stdout",
     "output_type": "stream",
     "text": [
      "Ttest_indResult(statistic=7.74895886413574, pvalue=2.207531903156525e-14)\n",
      "20.44\n",
      "13.694416243654823\n",
      "Ttest_indResult(statistic=7.392671571331474, pvalue=2.9679990334480073e-13)\n",
      "20.16\n",
      "13.708629441624366\n",
      "Ttest_indResult(statistic=7.46879745350993, pvalue=1.7186434040923752e-13)\n",
      "20.22\n",
      "13.705583756345177\n",
      "Ttest_indResult(statistic=6.863013274129655, pvalue=1.16070448953125e-11)\n",
      "19.74\n",
      "13.72994923857868\n",
      "Ttest_indResult(statistic=9.976397409318281, pvalue=1.9276081818725371e-22)\n",
      "22.14\n",
      "13.608121827411168\n",
      "Ttest_indResult(statistic=7.29135367492017, pvalue=6.09529566478834e-13)\n",
      "20.08\n",
      "13.712690355329949\n",
      "Ttest_indResult(statistic=8.236872466815736, pvalue=5.305733696807704e-16)\n",
      "20.82\n",
      "13.6751269035533\n",
      "Ttest_indResult(statistic=6.687660557088981, pvalue=3.707302384583055e-11)\n",
      "19.6\n",
      "13.737055837563451\n",
      "Ttest_indResult(statistic=7.266056570592171, pvalue=7.285240569669132e-13)\n",
      "20.06\n",
      "13.713705583756346\n",
      "Ttest_indResult(statistic=7.16499602892264, pvalue=1.4774568333095497e-12)\n",
      "19.98\n",
      "13.717766497461929\n",
      "Ttest_indResult(statistic=7.418033683974921, pvalue=2.4754026929869906e-13)\n",
      "20.18\n",
      "13.707614213197969\n",
      "Ttest_indResult(statistic=8.340266129717099, pvalue=2.348758267130887e-16)\n",
      "20.9\n",
      "13.671065989847715\n",
      "Ttest_indResult(statistic=6.73770235074074, pvalue=2.6686850404063516e-11)\n",
      "19.64\n",
      "13.73502538071066\n",
      "Ttest_indResult(statistic=7.26605657059217, pvalue=7.285240569669131e-13)\n",
      "20.06\n",
      "13.713705583756346\n",
      "Ttest_indResult(statistic=8.340266129717099, pvalue=2.348758267130887e-16)\n",
      "20.9\n",
      "13.671065989847715\n",
      "Ttest_indResult(statistic=6.7877911260227215, pvalue=1.9163261391960655e-11)\n",
      "19.68\n",
      "13.732994923857868\n",
      "Ttest_indResult(statistic=8.9921381199779, pvalue=1.1330037552643765e-18)\n",
      "21.4\n",
      "13.645685279187818\n",
      "Ttest_indResult(statistic=7.089333405631504, pvalue=2.4943902574189296e-12)\n",
      "19.92\n",
      "13.720812182741117\n",
      "Ttest_indResult(statistic=6.7126756066904205, pvalue=3.1463782234257827e-11)\n",
      "19.62\n",
      "13.736040609137056\n",
      "Ttest_indResult(statistic=7.672387777279261, pvalue=3.893228160151352e-14)\n",
      "20.38\n",
      "13.69746192893401\n",
      "Ttest_indResult(statistic=8.185265647015987, pvalue=7.943061545409895e-16)\n",
      "20.78\n",
      "13.677157360406092\n",
      "Ttest_indResult(statistic=7.621409033388706, pvalue=5.664859259153192e-14)\n",
      "20.34\n",
      "13.699492385786803\n",
      "Ttest_indResult(statistic=7.0641375414805285, pvalue=2.9664631803984865e-12)\n",
      "19.9\n",
      "13.721827411167512\n",
      "Ttest_indResult(statistic=7.266056570592171, pvalue=7.285240569669132e-13)\n",
      "20.06\n",
      "13.713705583756346\n",
      "Ttest_indResult(statistic=6.487955083864154, pvalue=1.3473268037855068e-10)\n",
      "19.44\n",
      "13.74517766497462\n",
      "Ttest_indResult(statistic=7.392671571331474, pvalue=2.9679990334480073e-13)\n",
      "20.16\n",
      "13.708629441624366\n",
      "Ttest_indResult(statistic=7.089333405631504, pvalue=2.4943902574189296e-12)\n",
      "19.92\n",
      "13.720812182741117\n",
      "Ttest_indResult(statistic=7.240772307095559, pvalue=8.702021719572105e-13)\n",
      "20.04\n",
      "13.71472081218274\n",
      "Ttest_indResult(statistic=8.417970749374264, pvalue=1.2659098686654942e-16)\n",
      "20.96\n",
      "13.668020304568527\n",
      "Ttest_indResult(statistic=6.863013274129655, pvalue=1.16070448953125e-11)\n",
      "19.74\n",
      "13.72994923857868\n",
      "Ttest_indResult(statistic=6.837927291689072, pvalue=1.3726887696358669e-11)\n",
      "19.72\n",
      "13.730964467005077\n",
      "Ttest_indResult(statistic=7.4434089599722935, pvalue=2.0632568745461397e-13)\n",
      "20.2\n",
      "13.706598984771574\n",
      "Ttest_indResult(statistic=7.367322567980295, pvalue=3.5563729049768587e-13)\n",
      "20.14\n",
      "13.70964467005076\n",
      "Ttest_indResult(statistic=8.030799642752893, pvalue=2.623635459330962e-15)\n",
      "20.66\n",
      "13.683248730964467\n",
      "Ttest_indResult(statistic=7.089333405631504, pvalue=2.4943902574189296e-12)\n",
      "19.92\n",
      "13.720812182741117\n",
      "Ttest_indResult(statistic=7.82565485145663, pvalue=1.2445024737733773e-14)\n",
      "20.5\n",
      "13.691370558375635\n",
      "Ttest_indResult(statistic=7.494199218899475, pvalue=1.4306815541787454e-13)\n",
      "20.24\n",
      "13.704568527918783\n",
      "Ttest_indResult(statistic=7.341986619983743, pvalue=4.2586973228426206e-13)\n",
      "20.12\n",
      "13.710659898477157\n",
      "Ttest_indResult(statistic=8.107966618925722, pvalue=1.4478394976778228e-15)\n",
      "20.72\n",
      "13.680203045685278\n",
      "Ttest_indResult(statistic=6.438142126958527, pvalue=1.8489734699408155e-10)\n",
      "19.4\n",
      "13.747208121827411\n",
      "Ttest_indResult(statistic=6.812853259442635, pvalue=1.6223874310067238e-11)\n",
      "19.7\n",
      "13.731979695431471\n",
      "Ttest_indResult(statistic=7.8512481972512695, pvalue=1.0267541198121146e-14)\n",
      "20.52\n",
      "13.690355329949238\n",
      "Ttest_indResult(statistic=6.388373734848177, pvalue=2.5312459302286674e-10)\n",
      "19.36\n",
      "13.749238578680202\n",
      "Ttest_indResult(statistic=7.26605657059217, pvalue=7.285240569669131e-13)\n",
      "20.06\n",
      "13.713705583756346\n",
      "Ttest_indResult(statistic=7.215500831103159, pvalue=1.0387806975758985e-12)\n",
      "20.02\n",
      "13.715736040609137\n",
      "Ttest_indResult(statistic=7.139762596678608, pvalue=1.7603645463631328e-12)\n",
      "19.96\n",
      "13.718781725888325\n",
      "Ttest_indResult(statistic=8.704083932963417, pvalue=1.2472109039127797e-17)\n",
      "21.18\n",
      "13.656852791878173\n",
      "Ttest_indResult(statistic=7.800075551407508, pvalue=1.5074586552739037e-14)\n",
      "20.48\n",
      "13.692385786802031\n",
      "Ttest_indResult(statistic=7.190242089407993, pvalue=1.2392397016352837e-12)\n",
      "20.0\n",
      "13.716751269035534\n",
      "Ttest_indResult(statistic=7.8512481972512695, pvalue=1.0267541198121146e-14)\n",
      "20.52\n",
      "13.690355329949238\n",
      "Ttest_indResult(statistic=8.107966618925722, pvalue=1.4478394976778228e-15)\n",
      "20.72\n",
      "13.680203045685278\n",
      "Ttest_indResult(statistic=7.316663673527547, pvalue=5.096505561402448e-13)\n",
      "20.1\n",
      "13.711675126903554\n",
      "Ttest_indResult(statistic=7.9537631653649115, pvalue=4.726570199754624e-15)\n",
      "20.6\n",
      "13.686294416243655\n",
      "Ttest_indResult(statistic=7.979427586695841, pvalue=3.8869918334328286e-15)\n",
      "20.62\n",
      "13.685279187817258\n",
      "Ttest_indResult(statistic=6.73770235074074, pvalue=2.6686850404063516e-11)\n",
      "19.64\n",
      "13.73502538071066\n",
      "Ttest_indResult(statistic=8.366152392841828, pvalue=1.9126988337847728e-16)\n",
      "20.92\n",
      "13.67005076142132\n",
      "Ttest_indResult(statistic=7.851248197251269, pvalue=1.0267541198121217e-14)\n",
      "20.52\n",
      "13.690355329949238\n",
      "Ttest_indResult(statistic=7.928113072506448, pvalue=5.743773576450421e-15)\n",
      "20.58\n",
      "13.687309644670052\n",
      "Ttest_indResult(statistic=6.562758950703085, pvalue=8.342673648438117e-11)\n",
      "19.5\n",
      "13.742131979695431\n",
      "Ttest_indResult(statistic=6.88811125824246, pvalue=9.808510049253994e-12)\n",
      "19.76\n",
      "13.728934010152285\n"
     ]
    }
   ],
   "source": [
    "def ttest(ms,mus,str_name,sol_file):\n",
    "    var_ = [i for i in hpvdata[str_name].values]\n",
    "    with open(sol_file, \"rb\") as file:\n",
    "        soluniform = pickle.load(file)\n",
    "    selected = []\n",
    "    unselected =[]\n",
    "    for i in range(len(var_)):\n",
    "        if i in soluniform:\n",
    "            if var_[i]>0:\n",
    "                selected.append(var_[i])\n",
    "        else:\n",
    "            if var_[i]>0:\n",
    "                unselected.append(var_[i])\n",
    "    #print(str_name)\n",
    "    test = stats.ttest_ind(selected, unselected)\n",
    "    ms.append(np.mean(selected))\n",
    "    mus.append(np.mean(unselected))\n",
    "    if test.pvalue<0.01:\n",
    "        print(stats.ttest_ind(selected, unselected))\n",
    "        print(np.mean(selected))\n",
    "        print(np.mean(unselected))\n",
    "    return ms,mus\n",
    "ms=[]\n",
    "mus=[]\n",
    "for i in range(60):\n",
    "    ms,mus = ttest(ms,mus,'HPV_VAX_attitu_s35',\"100_Network_Sols/sol_50_network\"+str(i)+\".pkl\")"
   ]
  },
  {
   "cell_type": "code",
   "execution_count": 55,
   "id": "b2ef205b",
   "metadata": {},
   "outputs": [
    {
     "data": {
      "text/plain": [
       "13.705211505922168"
      ]
     },
     "execution_count": 55,
     "metadata": {},
     "output_type": "execute_result"
    }
   ],
   "source": [
    "np.mean(mus)"
   ]
  },
  {
   "cell_type": "code",
   "execution_count": 54,
   "id": "433b5ed1",
   "metadata": {},
   "outputs": [
    {
     "data": {
      "text/plain": [
       "20.22733333333333"
      ]
     },
     "execution_count": 54,
     "metadata": {},
     "output_type": "execute_result"
    }
   ],
   "source": [
    "np.mean(ms)"
   ]
  },
  {
   "cell_type": "markdown",
   "id": "12491ec8",
   "metadata": {},
   "source": [
    "### budget vs. # pos"
   ]
  },
  {
   "cell_type": "code",
   "execution_count": 20,
   "id": "e3427e71",
   "metadata": {},
   "outputs": [],
   "source": [
    "sample = 0"
   ]
  },
  {
   "cell_type": "raw",
   "id": "6d06780f",
   "metadata": {},
   "source": [
    "sample = 0\n",
    "num_nodes = len(Network[sample].G.nodes)\n",
    "eps = 0.0001\n",
    "\n",
    "cost_vector = np.zeros(num_nodes)\n",
    "for i in Network[sample].G.nodes:\n",
    "    cost_vector[i] = Network[sample].G.nodes[i]['initial attitude']*10\n",
    "    cost_vector[i] = 100\n",
    "    \n",
    "\n",
    "initial_status = [Network[sample].G.nodes[i]['initial attitude'] for i in Network[sample].G.nodes]\n",
    "for i in range(len(initial_status)):\n",
    "    if initial_status[i]>=24:\n",
    "        initial_status[i]=-1\n",
    "    elif initial_status[i]<12:\n",
    "        initial_status[i]=1\n",
    "    else:\n",
    "        initial_status[i]=0\n",
    "a0plus = np.array([1 if i==1 else 0 for i in initial_status])\n",
    "a0minus = np.array([1 if i==-1 else 0 for i in initial_status])\n",
    "\n",
    "edge = np.zeros((num_nodes,num_nodes))\n",
    "for i in range(num_nodes):\n",
    "    for j in range(num_nodes):\n",
    "        if (i,j) in Network[sample].G.edges:\n",
    "            edge[i,j] = Network[sample].G.edges[(i,j)]['weight']\n",
    "\n",
    "threshold_pos = 8\n",
    "threshold_neg = -1\n",
    "lambda_ = 0.6\n",
    "\n",
    "T_plus = np.zeros(num_nodes)\n",
    "T_minus= np.zeros(num_nodes)\n",
    "\n",
    "T = 8\n",
    "obj = []\n",
    "budgets = [0,5,10,20,30,40,50,60,70,80,90,100,120,140,160,180,200,230,260,290,320,350]\n",
    "for budget in budgets:\n",
    "    for i in range(num_nodes):\n",
    "        T_plus[i] = threshold_pos-lambda_*threshold_pos*Network[sample].G.nodes[i]['listen_score']\n",
    "        T_minus[i] = threshold_neg+lambda_*threshold_neg*Network[sample].G.nodes[i]['listen_score']\n",
    "    \n",
    "    try:\n",
    "        # Create a new model\n",
    "        lm = gp.Model(\"lm\")\n",
    "    \n",
    "        # Create variables\n",
    "        \n",
    "        x = lm.addMVar(num_nodes,vtype=GRB.BINARY, name=\"x\") \n",
    "        atplus = lm.addMVar((num_nodes,T),vtype=GRB.BINARY, name=\"a+t\") \n",
    "        atminus = lm.addMVar((num_nodes,T),vtype=GRB.BINARY, name=\"a-t\") \n",
    "        atplus_ = lm.addMVar((num_nodes,T),vtype=GRB.BINARY, name=\"a+t_\") \n",
    "        atminus_ = lm.addMVar((num_nodes,T),vtype=GRB.BINARY, name=\"a-t_\") \n",
    "        lm.setObjective(sum(atplus_[:,T-1]),GRB.MAXIMIZE)\n",
    "        lm.addConstr(sum(x)==budget)\n",
    "        lm.addConstr(3*atplus_[:,0]>=a0plus+x)\n",
    "        lm.addConstr(3*(atplus_[:,0]-np.ones(num_nodes))<=a0plus+x-eps)\n",
    "        lm.addConstr(3*atminus_[:,0]>=a0minus-x)\n",
    "        lm.addConstr(3*(atminus_[:,0]-np.ones(num_nodes)) <= a0minus-x-eps)\n",
    "        for  t in range(1,T):\n",
    "            lm.addConstr(1000*(atplus[:,t]-np.ones(num_nodes)) <= np.transpose(edge)@atplus_[:,t-1]-np.transpose(edge)@atminus_[:,t-1]-T_plus)\n",
    "            lm.addConstr(1000*atplus[:,t]>=np.transpose(edge)@atplus_[:,t-1]-np.transpose(edge)@atminus_[:,t-1]-T_plus+eps)\n",
    "            lm.addConstr(1000*(atminus[:,t]-np.ones(num_nodes)) <= -np.transpose(edge)@atplus_[:,t-1]+np.transpose(edge)@atminus_[:,t-1]+T_minus)\n",
    "            lm.addConstr(1000*atminus[:,t]>=-np.transpose(edge)@atplus_[:,t-1]+np.transpose(edge)@atminus_[:,t-1]+T_minus+eps)\n",
    "            lm.addConstr(3*atplus_[:,t]>=atplus[:,t]-atminus[:,t]+atplus_[:,t-1])\n",
    "            lm.addConstr(3*(atplus_[:,t]-np.ones(num_nodes))<=atplus[:,t]-atminus[:,t]+atplus_[:,t-1]-eps)\n",
    "            lm.addConstr(3*atminus_[:,t]>=-atplus[:,t]+atminus[:,t]+atminus_[:,t-1])\n",
    "            lm.addConstr(3*(atminus_[:,t]-np.ones(num_nodes))<=-atplus[:,t]+atminus[:,t]+atminus_[:,t-1]-eps)\n",
    "        # Optimize model\n",
    "        lm.Params.Threads = 18\n",
    "        lm.Params.OutputFlag = 1\n",
    "        lm.Params.LogToConsole = 1\n",
    "        def myheuristic(model, where):\n",
    "            if where == GRB.Callback.MIPNODE:\n",
    "                # Check if it is a feasible solution node\n",
    "                if model.cbGet(GRB.Callback.MIPNODE_STATUS) == GRB.OPTIMAL:\n",
    "                    # Get the current relaxation solution\n",
    "                    node_rel_vals = model.cbGetNodeRel(x)\n",
    "                    #print(node_rel_vals)\n",
    "                    # Implement your heuristic logic here\n",
    "                    new_val  = np.round(node_rel_vals,0)\n",
    "                    #new_vals[new_plus] = 1  # Set z to 1\n",
    "                    model.cbSetSolution(x, new_val)\n",
    "                        # Try to use the current node's solution\n",
    "                    model.cbUseSolution()\n",
    "        #lm.optimize(myheuristic)\n",
    "        #lm.Params.MIPFocus = 0\n",
    "        #lm.Params.NoRelHeurTime = 30\n",
    "        lm.setParam('TimeLimit', 5)\n",
    "        lm.optimize()\n",
    "        sol = []\n",
    "        count=0\n",
    "        obj.append(lm.ObjVal)\n",
    "        print('LP:')\n",
    "        for v in lm.getVars():\n",
    "            if count<num_nodes:\n",
    "                if v.X == 1:\n",
    "                    #print('%s %g' % (v.VarName, v.X))                \n",
    "                    sol.append(count)     \n",
    "            count+=1\n",
    "        print('Obj: %g' % lm.ObjVal)\n",
    "        \n",
    "    except gp.GurobiError as e:\n",
    "        print('Error code ' + str(e.errno) + ': ' + str(e))\n",
    "    \n",
    "    except AttributeError:\n",
    "        print('Encountered an attribute error')\n",
    "with open(\"Results_section/obj_optimization_base_varying_budget.pkl\", 'wb') as f:\n",
    "        pickle.dump(obj, f)"
   ]
  },
  {
   "cell_type": "code",
   "execution_count": 21,
   "id": "2cf69b5d",
   "metadata": {},
   "outputs": [],
   "source": [
    "with open(\"Results_section/obj_optimization_base_varying_budget.pkl\", \"rb\") as file:\n",
    "    base_obj_optimization = pickle.load(file)"
   ]
  },
  {
   "cell_type": "raw",
   "id": "fbcb3469",
   "metadata": {},
   "source": [
    "budgets = [0,5,10,20,30,40,50,60,70,80,90,100,120,140,160,180,200,230,260,290,320,350]\n",
    "base_obj_random = []\n",
    "for budget in budgets:\n",
    "    candidates = []\n",
    "    for j in Network[sample].G.nodes:\n",
    "        if Network[sample].G.nodes.data('initial attitude')[j]>=12:\n",
    "            candidates.append(j)\n",
    "    random_sol=random.sample(candidates, budget)\n",
    "    Network[sample].run_linear_threshold_model(lambda_ = 0.6,threshold_pos=8,threshold_neg=-1,inital_threshold=[12,24],time_periods=10,x=random_sol)\n",
    "    base_obj_random.append(sum(np.array([1 if Network[sample].LTM[-1].nodes.data('status')[j]==1 else 0 for j in Network[sample].LTM[-1].nodes])))\n",
    "with open(\"Results_section/obj_random_base_varying_budget.pkl\", 'wb') as f:\n",
    "        pickle.dump(base_obj_random, f)"
   ]
  },
  {
   "cell_type": "code",
   "execution_count": 22,
   "id": "6a785935",
   "metadata": {},
   "outputs": [],
   "source": [
    "with open(\"Results_section/obj_random_base_varying_budget.pkl\", \"rb\") as file:\n",
    "    base_obj_random = pickle.load(file)"
   ]
  },
  {
   "cell_type": "raw",
   "id": "eeeec855",
   "metadata": {},
   "source": [
    "budgets = [0,5,10,20,30,40,50,60,70,80,90,100,120,140,160,180,200,230,260]\n",
    "base_obj_budget = []\n",
    "for budget in budgets:\n",
    "    candidates = []\n",
    "    for j in Network[sample].G.nodes:\n",
    "        if Network[sample].G.nodes.data('initial attitude')[j]>=12:\n",
    "            candidates.append(j)\n",
    "    random_sol=random.sample(candidates, budget)\n",
    "    if budget == 0:\n",
    "        Network[sample].run_linear_threshold_model(lambda_ = 0.6,threshold_pos=8,threshold_neg=-1,inital_threshold=[12,24],time_periods=10,x=[])\n",
    "    else:\n",
    "        with open(\"100_Network_Sols/sol_50_greedy_budget\"+str(budget)+\".pkl\", \"rb\") as file:\n",
    "            Greedy_Sol=pickle.load(file)\n",
    "        Network[sample].run_linear_threshold_model(lambda_ = 0.6,threshold_pos=8,threshold_neg=-1,inital_threshold=[12,24],time_periods=10,x=Greedy_Sol)\n",
    "    base_obj_budget.append(sum(np.array([1 if Network[sample].LTM[-1].nodes.data('status')[j]==1 else 0 for j in Network[sample].LTM[-1].nodes])))\n",
    "with open(\"Results_section/obj_greedy_base_varying_budget.pkl\", 'wb') as f:\n",
    "        pickle.dump(base_obj_budget, f)"
   ]
  },
  {
   "cell_type": "code",
   "execution_count": 33,
   "id": "55f0aa3e",
   "metadata": {},
   "outputs": [],
   "source": [
    "with open(\"Results_section/obj_greedy_base_varying_budget.pkl\", \"rb\") as file:\n",
    "    base_obj_greedy = pickle.load(file)"
   ]
  },
  {
   "cell_type": "raw",
   "id": "a9d580df",
   "metadata": {},
   "source": [
    "budgets = [0,5,10,20,30,40,50,60,70,80,90,100,120,140,160,180,200,230,260,290,320,350]\n",
    "base_obj_contact = []\n",
    "for budget in budgets:\n",
    "    candidates = {}\n",
    "    for j in Network[sample].G.nodes:\n",
    "        if Network[sample].G.nodes.data('initial attitude')[j]>=12:\n",
    "            candidates[j]=Network[sample].G.degree[j]\n",
    "    contact_sol=list(sorted(candidates, key=candidates.get, reverse=True)[:budget])\n",
    "    Network[sample].run_linear_threshold_model(lambda_ = 0.6,threshold_pos=8,threshold_neg=-1,inital_threshold=[12,24],time_periods=10,x=contact_sol)\n",
    "    base_obj_contact.append(sum(np.array([1 if Network[sample].LTM[-1].nodes.data('status')[j]==1 else 0 for j in Network[sample].LTM[-1].nodes])))\n",
    "with open(\"Results_section/obj_contact_base_varying_budget.pkl\", 'wb') as f:\n",
    "        pickle.dump(base_obj_contact, f)    \n"
   ]
  },
  {
   "cell_type": "code",
   "execution_count": 34,
   "id": "bb71af7e",
   "metadata": {},
   "outputs": [],
   "source": [
    "with open(\"Results_section/obj_contact_base_varying_budget.pkl\", \"rb\") as file:\n",
    "    base_obj_contact = pickle.load(file)"
   ]
  },
  {
   "cell_type": "raw",
   "id": "6bb818af",
   "metadata": {},
   "source": [
    "budgets = [0,5,10,20,30,40,50,60,70,80,90,100,120,140,160,180,200,230,260,290,320,350]\n",
    "base_obj_highscore = []\n",
    "for budget in budgets:\n",
    "    candidates = {}\n",
    "    for j in Network[sample].G.nodes:\n",
    "        if Network[sample].G.nodes.data('initial attitude')[j]>=12:\n",
    "            candidates[j]=Network[sample].G.nodes.data('initial attitude')[j]\n",
    "    highscore_sol=list(sorted(candidates, key=candidates.get, reverse=True)[:budget])\n",
    "    Network[sample].run_linear_threshold_model(lambda_ = 0.6,threshold_pos=8,threshold_neg=-1,inital_threshold=[12,24],time_periods=10,x=highscore_sol)\n",
    "    base_obj_highscore.append(sum(np.array([1 if Network[sample].LTM[-1].nodes.data('status')[j]==1 else 0 for j in Network[sample].LTM[-1].nodes])))\n",
    "with open(\"Results_section/obj_highscore_base_varying_budget.pkl\", 'wb') as f:\n",
    "        pickle.dump(base_obj_highscore, f)    "
   ]
  },
  {
   "cell_type": "code",
   "execution_count": 35,
   "id": "42611966",
   "metadata": {},
   "outputs": [],
   "source": [
    "with open(\"Results_section/obj_highscore_base_varying_budget.pkl\", \"rb\") as file:\n",
    "    base_obj_highscore = pickle.load(file)"
   ]
  },
  {
   "cell_type": "code",
   "execution_count": 36,
   "id": "30d069e3",
   "metadata": {},
   "outputs": [
    {
     "data": {
      "text/plain": [
       "19"
      ]
     },
     "execution_count": 36,
     "metadata": {},
     "output_type": "execute_result"
    }
   ],
   "source": [
    "len(base_obj_greedy)"
   ]
  },
  {
   "cell_type": "code",
   "execution_count": 39,
   "id": "1f24243d",
   "metadata": {},
   "outputs": [
    {
     "name": "stderr",
     "output_type": "stream",
     "text": [
      "The PostScript backend does not support transparency; partially transparent artists will be rendered opaque.\n"
     ]
    },
    {
     "data": {
      "image/png": "[encoded data removed]",
      "text/plain": [
       "<Figure size 640x480 with 1 Axes>"
      ]
     },
     "metadata": {},
     "output_type": "display_data"
    }
   ],
   "source": [
    "budgets = [0,5,10,20,30,40,50,60,70,80,90,100,120,140,160,180,200,230,260,290,320,350]\n",
    "plt.plot(budgets[:-3],base_obj_optimization[:-3],label='MILP')\n",
    "plt.plot(budgets[:-3],base_obj_random[:-3],label='Random')\n",
    "plt.plot(budgets[:-3],base_obj_contact[:-3],label='Degree')\n",
    "plt.plot(budgets[:-3],base_obj_highscore[:-3],label='HPV attitude')\n",
    "#plt.plot(budgets[:-3],base_obj_greedy,label='Greedy')\n",
    "plt.legend()\n",
    "plt.ylabel('Number of Positive Nodes',fontsize=18)\n",
    "plt.xlabel('Budget',fontsize=18)\n",
    "plt.savefig('figures/budgets.eps', bbox_inches=\"tight\", format='eps',dpi=600)\n"
   ]
  },
  {
   "cell_type": "code",
   "execution_count": null,
   "id": "09f8a804",
   "metadata": {},
   "outputs": [],
   "source": []
  }
 ],
 "metadata": {
  "kernelspec": {
   "display_name": "Python 3 (ipykernel)",
   "language": "python",
   "name": "python3"
  },
  "language_info": {
   "codemirror_mode": {
    "name": "ipython",
    "version": 3
   },
   "file_extension": ".py",
   "mimetype": "text/x-python",
   "name": "python",
   "nbconvert_exporter": "python",
   "pygments_lexer": "ipython3",
   "version": "3.9.13"
  },
  "varInspector": {
   "cols": {
    "lenName": 16,
    "lenType": 16,
    "lenVar": 40
   },
   "kernels_config": {
    "python": {
     "delete_cmd_postfix": "",
     "delete_cmd_prefix": "del ",
     "library": "var_list.py",
     "varRefreshCmd": "print(var_dic_list())"
    },
    "r": {
     "delete_cmd_postfix": ") ",
     "delete_cmd_prefix": "rm(",
     "library": "var_list.r",
     "varRefreshCmd": "cat(var_dic_list()) "
    }
   },
   "types_to_exclude": [
    "module",
    "function",
    "builtin_function_or_method",
    "instance",
    "_Feature"
   ],
   "window_display": false
  }
 },
 "nbformat": 4,
 "nbformat_minor": 5
}
