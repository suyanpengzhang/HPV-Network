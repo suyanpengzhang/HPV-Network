{
 "cells": [
  {
   "cell_type": "code",
   "execution_count": 1,
   "id": "352b0e0e",
   "metadata": {},
   "outputs": [
    {
     "name": "stdout",
     "output_type": "stream",
     "text": [
      "Intel MKL WARNING: Support of Intel(R) Streaming SIMD Extensions 4.2 (Intel(R) SSE4.2) enabled only processors has been deprecated. Intel oneAPI Math Kernel Library 2025.0 will require Intel(R) Advanced Vector Extensions (Intel(R) AVX) instructions.\n",
      "Intel MKL WARNING: Support of Intel(R) Streaming SIMD Extensions 4.2 (Intel(R) SSE4.2) enabled only processors has been deprecated. Intel oneAPI Math Kernel Library 2025.0 will require Intel(R) Advanced Vector Extensions (Intel(R) AVX) instructions.\n"
     ]
    }
   ],
   "source": [
    "from scipy.stats import ttest_ind\n",
    "import pandas as pd\n",
    "import numpy as np\n",
    "from sklearn.model_selection import train_test_split\n",
    "from sklearn import svm\n",
    "from sklearn.metrics import accuracy_score\n",
    "from sklearn.svm import SVC\n",
    "from sklearn.metrics import roc_curve, roc_auc_score, auc\n",
    "from sklearn.model_selection import GridSearchCV\n"
   ]
  },
  {
   "cell_type": "code",
   "execution_count": 2,
   "id": "2af35aec",
   "metadata": {},
   "outputs": [
    {
     "name": "stderr",
     "output_type": "stream",
     "text": [
      "/var/folders/b3/kkdtnh4d4gjgrk45d_yrf4100000gn/T/ipykernel_43331/3811312610.py:3: DtypeWarning: Columns (43) have mixed types. Specify dtype option on import or set low_memory=False.\n",
      "  hpvdata = pd.read_csv(file_path)\n"
     ]
    }
   ],
   "source": [
    "#read the data\n",
    "file_path = 'hpvdata.csv'\n",
    "hpvdata = pd.read_csv(file_path)"
   ]
  },
  {
   "cell_type": "code",
   "execution_count": 3,
   "id": "2d607d36",
   "metadata": {},
   "outputs": [],
   "source": [
    "#filter out all records that has NA values on VAX attitude\n",
    "hpvdata_cleaned = hpvdata.dropna(subset=['HPV_VAX_attitu_s35'])"
   ]
  },
  {
   "cell_type": "code",
   "execution_count": 4,
   "id": "822e5522",
   "metadata": {},
   "outputs": [],
   "source": [
    "# Calculate the percentage of available (non-missing) values in each column\n",
    "available_percentage = 100 - ((hpvdata_cleaned.isnull().sum() / len(hpvdata_cleaned)) * 100)\n",
    "# Identify columns with more than 50% available values\n",
    "columns_to_select = available_percentage[available_percentage > 50].index\n",
    "# Select the columns from the DataFrame\n",
    "hpvdata_cleaned = hpvdata_cleaned[columns_to_select]"
   ]
  },
  {
   "cell_type": "code",
   "execution_count": 6,
   "id": "4946e696",
   "metadata": {},
   "outputs": [
    {
     "data": {
      "text/plain": [
       "sec8_q89\n",
       " 1.0      523\n",
       " 2.0      402\n",
       " 3.0       64\n",
       " 4.0       42\n",
       "-777.0      1\n",
       "Name: count, dtype: int64"
      ]
     },
     "execution_count": 6,
     "metadata": {},
     "output_type": "execute_result"
    }
   ],
   "source": [
    "hpvdata_cleaned['sec8_q89'].value_counts()"
   ]
  },
  {
   "cell_type": "code",
   "execution_count": 14,
   "id": "98f03936",
   "metadata": {},
   "outputs": [
    {
     "data": {
      "text/plain": [
       "sec5_q62\n",
       " 3.0      901\n",
       " 2.0       87\n",
       " 1.0       43\n",
       "-777.0      3\n",
       "Name: count, dtype: int64"
      ]
     },
     "execution_count": 14,
     "metadata": {},
     "output_type": "execute_result"
    }
   ],
   "source": [
    "hpvdata_cleaned['sec5_q62'].value_counts()"
   ]
  },
  {
   "cell_type": "code",
   "execution_count": 5,
   "id": "a4d38c09",
   "metadata": {},
   "outputs": [
    {
     "ename": "ValueError",
     "evalue": "could not convert string to float: '   .'",
     "output_type": "error",
     "traceback": [
      "\u001b[0;31m---------------------------------------------------------------------------\u001b[0m",
      "\u001b[0;31mValueError\u001b[0m                                Traceback (most recent call last)",
      "Cell \u001b[0;32mIn[5], line 2\u001b[0m\n\u001b[1;32m      1\u001b[0m \u001b[38;5;66;03m# Generate correlation matrix\u001b[39;00m\n\u001b[0;32m----> 2\u001b[0m corrmatrix  \u001b[38;5;241m=\u001b[39m \u001b[43mhpvdata_cleaned\u001b[49m\u001b[38;5;241;43m.\u001b[39;49m\u001b[43mcorr\u001b[49m\u001b[43m(\u001b[49m\u001b[43m)\u001b[49m\n",
      "File \u001b[0;32m~/opt/anaconda3/lib/python3.9/site-packages/pandas/core/frame.py:10707\u001b[0m, in \u001b[0;36mDataFrame.corr\u001b[0;34m(self, method, min_periods, numeric_only)\u001b[0m\n\u001b[1;32m  10705\u001b[0m cols \u001b[38;5;241m=\u001b[39m data\u001b[38;5;241m.\u001b[39mcolumns\n\u001b[1;32m  10706\u001b[0m idx \u001b[38;5;241m=\u001b[39m cols\u001b[38;5;241m.\u001b[39mcopy()\n\u001b[0;32m> 10707\u001b[0m mat \u001b[38;5;241m=\u001b[39m \u001b[43mdata\u001b[49m\u001b[38;5;241;43m.\u001b[39;49m\u001b[43mto_numpy\u001b[49m\u001b[43m(\u001b[49m\u001b[43mdtype\u001b[49m\u001b[38;5;241;43m=\u001b[39;49m\u001b[38;5;28;43mfloat\u001b[39;49m\u001b[43m,\u001b[49m\u001b[43m \u001b[49m\u001b[43mna_value\u001b[49m\u001b[38;5;241;43m=\u001b[39;49m\u001b[43mnp\u001b[49m\u001b[38;5;241;43m.\u001b[39;49m\u001b[43mnan\u001b[49m\u001b[43m,\u001b[49m\u001b[43m \u001b[49m\u001b[43mcopy\u001b[49m\u001b[38;5;241;43m=\u001b[39;49m\u001b[38;5;28;43;01mFalse\u001b[39;49;00m\u001b[43m)\u001b[49m\n\u001b[1;32m  10709\u001b[0m \u001b[38;5;28;01mif\u001b[39;00m method \u001b[38;5;241m==\u001b[39m \u001b[38;5;124m\"\u001b[39m\u001b[38;5;124mpearson\u001b[39m\u001b[38;5;124m\"\u001b[39m:\n\u001b[1;32m  10710\u001b[0m     correl \u001b[38;5;241m=\u001b[39m libalgos\u001b[38;5;241m.\u001b[39mnancorr(mat, minp\u001b[38;5;241m=\u001b[39mmin_periods)\n",
      "File \u001b[0;32m~/opt/anaconda3/lib/python3.9/site-packages/pandas/core/frame.py:1892\u001b[0m, in \u001b[0;36mDataFrame.to_numpy\u001b[0;34m(self, dtype, copy, na_value)\u001b[0m\n\u001b[1;32m   1890\u001b[0m \u001b[38;5;28;01mif\u001b[39;00m dtype \u001b[38;5;129;01mis\u001b[39;00m \u001b[38;5;129;01mnot\u001b[39;00m \u001b[38;5;28;01mNone\u001b[39;00m:\n\u001b[1;32m   1891\u001b[0m     dtype \u001b[38;5;241m=\u001b[39m np\u001b[38;5;241m.\u001b[39mdtype(dtype)\n\u001b[0;32m-> 1892\u001b[0m result \u001b[38;5;241m=\u001b[39m \u001b[38;5;28;43mself\u001b[39;49m\u001b[38;5;241;43m.\u001b[39;49m\u001b[43m_mgr\u001b[49m\u001b[38;5;241;43m.\u001b[39;49m\u001b[43mas_array\u001b[49m\u001b[43m(\u001b[49m\u001b[43mdtype\u001b[49m\u001b[38;5;241;43m=\u001b[39;49m\u001b[43mdtype\u001b[49m\u001b[43m,\u001b[49m\u001b[43m \u001b[49m\u001b[43mcopy\u001b[49m\u001b[38;5;241;43m=\u001b[39;49m\u001b[43mcopy\u001b[49m\u001b[43m,\u001b[49m\u001b[43m \u001b[49m\u001b[43mna_value\u001b[49m\u001b[38;5;241;43m=\u001b[39;49m\u001b[43mna_value\u001b[49m\u001b[43m)\u001b[49m\n\u001b[1;32m   1893\u001b[0m \u001b[38;5;28;01mif\u001b[39;00m result\u001b[38;5;241m.\u001b[39mdtype \u001b[38;5;129;01mis\u001b[39;00m \u001b[38;5;129;01mnot\u001b[39;00m dtype:\n\u001b[1;32m   1894\u001b[0m     result \u001b[38;5;241m=\u001b[39m np\u001b[38;5;241m.\u001b[39marray(result, dtype\u001b[38;5;241m=\u001b[39mdtype, copy\u001b[38;5;241m=\u001b[39m\u001b[38;5;28;01mFalse\u001b[39;00m)\n",
      "File \u001b[0;32m~/opt/anaconda3/lib/python3.9/site-packages/pandas/core/internals/managers.py:1656\u001b[0m, in \u001b[0;36mBlockManager.as_array\u001b[0;34m(self, dtype, copy, na_value)\u001b[0m\n\u001b[1;32m   1654\u001b[0m         arr\u001b[38;5;241m.\u001b[39mflags\u001b[38;5;241m.\u001b[39mwriteable \u001b[38;5;241m=\u001b[39m \u001b[38;5;28;01mFalse\u001b[39;00m\n\u001b[1;32m   1655\u001b[0m \u001b[38;5;28;01melse\u001b[39;00m:\n\u001b[0;32m-> 1656\u001b[0m     arr \u001b[38;5;241m=\u001b[39m \u001b[38;5;28;43mself\u001b[39;49m\u001b[38;5;241;43m.\u001b[39;49m\u001b[43m_interleave\u001b[49m\u001b[43m(\u001b[49m\u001b[43mdtype\u001b[49m\u001b[38;5;241;43m=\u001b[39;49m\u001b[43mdtype\u001b[49m\u001b[43m,\u001b[49m\u001b[43m \u001b[49m\u001b[43mna_value\u001b[49m\u001b[38;5;241;43m=\u001b[39;49m\u001b[43mna_value\u001b[49m\u001b[43m)\u001b[49m\n\u001b[1;32m   1657\u001b[0m     \u001b[38;5;66;03m# The underlying data was copied within _interleave, so no need\u001b[39;00m\n\u001b[1;32m   1658\u001b[0m     \u001b[38;5;66;03m# to further copy if copy=True or setting na_value\u001b[39;00m\n\u001b[1;32m   1660\u001b[0m \u001b[38;5;28;01mif\u001b[39;00m na_value \u001b[38;5;129;01mis\u001b[39;00m lib\u001b[38;5;241m.\u001b[39mno_default:\n",
      "File \u001b[0;32m~/opt/anaconda3/lib/python3.9/site-packages/pandas/core/internals/managers.py:1715\u001b[0m, in \u001b[0;36mBlockManager._interleave\u001b[0;34m(self, dtype, na_value)\u001b[0m\n\u001b[1;32m   1713\u001b[0m     \u001b[38;5;28;01melse\u001b[39;00m:\n\u001b[1;32m   1714\u001b[0m         arr \u001b[38;5;241m=\u001b[39m blk\u001b[38;5;241m.\u001b[39mget_values(dtype)\n\u001b[0;32m-> 1715\u001b[0m     result[rl\u001b[38;5;241m.\u001b[39mindexer] \u001b[38;5;241m=\u001b[39m arr\n\u001b[1;32m   1716\u001b[0m     itemmask[rl\u001b[38;5;241m.\u001b[39mindexer] \u001b[38;5;241m=\u001b[39m \u001b[38;5;241m1\u001b[39m\n\u001b[1;32m   1718\u001b[0m \u001b[38;5;28;01mif\u001b[39;00m \u001b[38;5;129;01mnot\u001b[39;00m itemmask\u001b[38;5;241m.\u001b[39mall():\n",
      "\u001b[0;31mValueError\u001b[0m: could not convert string to float: '   .'"
     ]
    }
   ],
   "source": [
    "# Generate correlation matrix\n",
    "corrmatrix  = hpvdata_cleaned.corr()"
   ]
  },
  {
   "cell_type": "code",
   "execution_count": null,
   "id": "5f2b3db0",
   "metadata": {},
   "outputs": [],
   "source": [
    "corrmatrix  = hpvdata_cleaned.corr()\n",
    "corrmatrix\n"
   ]
  },
  {
   "cell_type": "code",
   "execution_count": null,
   "id": "9fe16ad2",
   "metadata": {},
   "outputs": [],
   "source": [
    "vars_ =  {}\n",
    "for idx in corrmatrix.index:\n",
    "    if abs(corrmatrix['HPV_VAX_attitu_s35'][idx])>0.7:\n",
    "        vars_[idx] = corrmatrix['HPV_VAX_attitu_s35'][idx]"
   ]
  },
  {
   "cell_type": "code",
   "execution_count": null,
   "id": "3b6c7077",
   "metadata": {},
   "outputs": [],
   "source": [
    "# highly correlated variables\n",
    "vars_"
   ]
  },
  {
   "cell_type": "code",
   "execution_count": null,
   "id": "b76425e8",
   "metadata": {},
   "outputs": [],
   "source": [
    "hpvdata_cleaned['HPV_VAX_attitu_s35']\n",
    "#higher the value, more negative"
   ]
  },
  {
   "cell_type": "code",
   "execution_count": null,
   "id": "e323498a",
   "metadata": {},
   "outputs": [],
   "source": [
    "df_low_attitude = hpvdata_cleaned[hpvdata_cleaned['HPV_VAX_attitu_s35']<=np.nanmedian(hpvdata_cleaned['HPV_VAX_attitu_s35'])]\n",
    "df_high_attitude = hpvdata_cleaned[hpvdata_cleaned['HPV_VAX_attitu_s35']>np.nanmedian(hpvdata_cleaned['HPV_VAX_attitu_s35'])]\n"
   ]
  },
  {
   "cell_type": "code",
   "execution_count": null,
   "id": "41ad0cea",
   "metadata": {},
   "outputs": [],
   "source": [
    "df_high_attitude"
   ]
  },
  {
   "cell_type": "code",
   "execution_count": null,
   "id": "10993e3c",
   "metadata": {},
   "outputs": [],
   "source": [
    "import matplotlib.pyplot as plt\n",
    "df_high_attitude = df_high_attitude[df_high_attitude['sec1_q6']!=-999]\n",
    "plt.hist(df_high_attitude['sec1_q6'], bins=6, range=[1,7],edgecolor='black')  # Adjust 'bins' parameter as needed\n",
    "plt.title('Hidf_high_attitudestogram')\n",
    "plt.xlabel('Value')\n",
    "plt.ylabel('Frequency')\n",
    "plt.show()"
   ]
  },
  {
   "cell_type": "code",
   "execution_count": null,
   "id": "7cd39565",
   "metadata": {},
   "outputs": [],
   "source": [
    "print('median:',np.median(hpvdata_cleaned['HPV_VAX_attitu_s35']))\n",
    "group1 = hpvdata_cleaned[hpvdata_cleaned['HPV_VAX_attitu_s35']<=14]\n",
    "group2 = hpvdata_cleaned[hpvdata_cleaned['HPV_VAX_attitu_s35']>14]"
   ]
  },
  {
   "cell_type": "code",
   "execution_count": null,
   "id": "ed22898c",
   "metadata": {},
   "outputs": [],
   "source": [
    "name = 'age'\n",
    "print(name)\n",
    "print('Score<=14')\n",
    "print(np.mean(group1[name]))\n",
    "print('Score>14')\n",
    "print(np.mean(group2[name]))\n",
    "print('pvalue')\n",
    "print(ttest_ind(group1[name],group2[name],equal_var=True).pvalue)"
   ]
  },
  {
   "cell_type": "code",
   "execution_count": null,
   "id": "4a2bba18",
   "metadata": {},
   "outputs": [],
   "source": [
    "name = 'sec1_q8'\n",
    "print('household income')\n",
    "print('Score<=17')\n",
    "print(np.mean(group1[group1[name]>-1][name]))\n",
    "print('Score>17')\n",
    "print(np.mean(group2[group2[name]>-1][name]))\n",
    "print('pvalue')\n",
    "print(ttest_ind(group1[group1[name]>-1][name],group2[group2[name]>-1][name],equal_var=True).pvalue)"
   ]
  },
  {
   "cell_type": "code",
   "execution_count": null,
   "id": "1a988675",
   "metadata": {},
   "outputs": [],
   "source": [
    "name = 'sec5_q61'\n",
    "print('61.Have you ever talked about cervical cancer or HPV vaccine with other parents?')\n",
    "print('Score<=17')\n",
    "print(np.mean(group1[group1[name]>-1][name]))\n",
    "print('Score>17')\n",
    "print(np.mean(group2[group2[name]>-1][name]))\n",
    "print('pvalue')\n",
    "print(ttest_ind(group1[group1[name]>-1][name],group2[group2[name]>-1][name],equal_var=True).pvalue)"
   ]
  },
  {
   "cell_type": "code",
   "execution_count": null,
   "id": "53b551ce",
   "metadata": {},
   "outputs": [],
   "source": [
    "name = 'sec5_q62'\n",
    "print('62.How comfortable do you feel talking about cervical cancer or HPV vaccine with other parents?')\n",
    "print('Score<=17')\n",
    "print(np.mean(group1[group1[name]>-1][name]))\n",
    "print('Score>17')\n",
    "print(np.mean(group2[group2[name]>-1][name]))\n",
    "print('pvalue')\n",
    "print(ttest_ind(group1[group1[name]>-1][name],group2[group2[name]>-1][name],equal_var=True).pvalue)"
   ]
  },
  {
   "cell_type": "code",
   "execution_count": null,
   "id": "d67655c6",
   "metadata": {},
   "outputs": [],
   "source": [
    "from scipy.stats import chi2_contingency\n",
    "observed = np.zeros((2,2))\n",
    "name = 'sec5_q61'\n",
    "print('61.Have you ever talked about cervical cancer or HPV vaccine with other parents?')\n",
    "observed[0,0] = group1[name].value_counts()[1]\n",
    "observed[0,1] = group2[name].value_counts()[1]\n",
    "observed[1,0] = group1[name].value_counts()[0]\n",
    "observed[1,1] = group2[name].value_counts()[0]\n",
    "chi2, p, dof, expected = chi2_contingency(observed)\n",
    "print(observed)\n",
    "print(p)"
   ]
  },
  {
   "cell_type": "code",
   "execution_count": null,
   "id": "5ba33ef1",
   "metadata": {},
   "outputs": [],
   "source": [
    "name = 'sec1_q9'\n",
    "print('residence')\n",
    "observed = np.zeros((3,2))\n",
    "observed[0,0] = group1[name].value_counts()[3]\n",
    "observed[0,1] = group2[name].value_counts()[3]\n",
    "observed[1,0] = group1[name].value_counts()[2]\n",
    "observed[1,1] = group2[name].value_counts()[2]\n",
    "observed[2,0] = group1[name].value_counts()[1]\n",
    "observed[2,1] = group2[name].value_counts()[1]\n",
    "chi2, p, dof, expected = chi2_contingency(observed)\n",
    "print(observed)\n",
    "print(p)"
   ]
  },
  {
   "cell_type": "code",
   "execution_count": null,
   "id": "8fda8136",
   "metadata": {},
   "outputs": [],
   "source": [
    "from scipy.stats import chi2_contingency\n",
    "name = 'sec5_q62'\n",
    "print('62.How comfortable do you feel talking about cervical cancer or HPV vaccine with other parents?')\n",
    "observed = np.zeros((3,2))\n",
    "observed[0,0] = group1[name].value_counts()[3]\n",
    "observed[0,1] = group2[name].value_counts()[3]\n",
    "observed[1,0] = group1[name].value_counts()[2]\n",
    "observed[1,1] = group2[name].value_counts()[2]\n",
    "observed[2,0] = group1[name].value_counts()[1]\n",
    "observed[2,1] = group2[name].value_counts()[1]\n",
    "chi2, p, dof, expected = chi2_contingency(observed)\n",
    "print(observed)\n",
    "print(p)"
   ]
  },
  {
   "cell_type": "code",
   "execution_count": null,
   "id": "948a67d2",
   "metadata": {},
   "outputs": [],
   "source": [
    "grouppos = hpvdata_cleaned[hpvdata_cleaned['HPV_VAX_attitu_s35']<12]\n",
    "groupneu = hpvdata_cleaned[hpvdata_cleaned['HPV_VAX_attitu_s35']>=12]\n",
    "groupneu = groupneu[groupneu['HPV_VAX_attitu_s35']<24]\n",
    "groupneg = hpvdata_cleaned[hpvdata_cleaned['HPV_VAX_attitu_s35']>=24]\n"
   ]
  },
  {
   "cell_type": "code",
   "execution_count": null,
   "id": "fcdee02a",
   "metadata": {},
   "outputs": [],
   "source": [
    "len(groupneg)/len(hpvdata_cleaned)"
   ]
  },
  {
   "cell_type": "code",
   "execution_count": null,
   "id": "983d59d2",
   "metadata": {},
   "outputs": [],
   "source": [
    "len(groupneu)/len(hpvdata_cleaned)"
   ]
  },
  {
   "cell_type": "code",
   "execution_count": null,
   "id": "440b4251",
   "metadata": {},
   "outputs": [],
   "source": [
    "len(grouppos)/len(hpvdata_cleaned)"
   ]
  },
  {
   "cell_type": "code",
   "execution_count": null,
   "id": "ace0409e",
   "metadata": {},
   "outputs": [],
   "source": [
    "np.mean(groupneg['sec5_q61'])"
   ]
  },
  {
   "cell_type": "code",
   "execution_count": null,
   "id": "60abd7ff",
   "metadata": {},
   "outputs": [],
   "source": [
    "np.mean(groupneu['sec5_q61'])"
   ]
  },
  {
   "cell_type": "code",
   "execution_count": null,
   "id": "ee43c53b",
   "metadata": {},
   "outputs": [],
   "source": [
    "np.mean(grouppos['sec5_q61'])"
   ]
  },
  {
   "cell_type": "code",
   "execution_count": null,
   "id": "6cf109b4",
   "metadata": {},
   "outputs": [],
   "source": [
    "vars_ =  {}\n",
    "for idx in corrmatrix.index:\n",
    "    if abs(corrmatrix['sec5_q61'][idx])>0.1:\n",
    "        vars_[idx] = corrmatrix['sec5_q61'][idx]"
   ]
  },
  {
   "cell_type": "code",
   "execution_count": null,
   "id": "093abe85",
   "metadata": {},
   "outputs": [],
   "source": [
    "vars_"
   ]
  },
  {
   "cell_type": "raw",
   "id": "55fb85c2",
   "metadata": {},
   "source": [
    "sec1_q4\t4.     Are you male or female?\n",
    "sec1_q5\t5.    What is the highest level of school you completed?\n",
    "sec1_q6\t6.What is your current employment status?\n",
    "sec1_q7\t7.  What is your current marital status?\n",
    "sec1_q8\t8    Over the past 12 months, how would you describe your household income?\n",
    "sec1_q9\t9.   How would you describe the area where you live at present? Is it a…\n",
    "sec1_q10\t10  Where are you now, while we are doing this survey?\n",
    "sec1_q11\t11.  What tasks can you do on a mobile phone? "
   ]
  },
  {
   "cell_type": "code",
   "execution_count": null,
   "id": "2bf8c70f",
   "metadata": {},
   "outputs": [],
   "source": [
    "selected_data = hpvdata_cleaned[['HPV_VAX_attitu_s35','sec5_q61','age','sec1_q5','sec1_q6','sec1_q7','sec1_q8','sec1_q9','education_a']]\n",
    "data = selected_data.dropna()\n",
    "df_encoded = pd.get_dummies(data[['age','sec1_q5','sec1_q6','sec1_q7','sec1_q8','sec1_q9','education_a']], columns=['sec1_q5','sec1_q6','sec1_q7','sec1_q8','sec1_q9','education_a'])\n"
   ]
  },
  {
   "cell_type": "code",
   "execution_count": null,
   "id": "5db27221",
   "metadata": {},
   "outputs": [],
   "source": [
    "y = data['HPV_VAX_attitu_s35'].values.copy()\n",
    "X = df_encoded.values.copy()\n",
    "for i in range(len(y)):\n",
    "    if y[i]>=20:\n",
    "        y[i] = 1\n",
    "    else:\n",
    "        y[i] = 0"
   ]
  },
  {
   "cell_type": "code",
   "execution_count": null,
   "id": "92ae20f0",
   "metadata": {},
   "outputs": [],
   "source": [
    "X_train, X_test, y_train, y_test = train_test_split(X, y, test_size=0.3, random_state=42)"
   ]
  },
  {
   "cell_type": "code",
   "execution_count": null,
   "id": "12bc0707",
   "metadata": {},
   "outputs": [],
   "source": [
    "class_weights = {0: 1.0, 1: 1}\n",
    "svc = SVC(kernel='rbf', probability=True, class_weight=class_weights)\n",
    "param_grid = {'C': [0.1, 1, 10]}\n"
   ]
  },
  {
   "cell_type": "code",
   "execution_count": null,
   "id": "dadf9e51",
   "metadata": {},
   "outputs": [],
   "source": [
    "grid_search = GridSearchCV(estimator=svc, param_grid=param_grid, cv=5, scoring='roc_auc')\n",
    "grid_search.fit(X_train, y_train)"
   ]
  },
  {
   "cell_type": "code",
   "execution_count": null,
   "id": "f95b194d",
   "metadata": {},
   "outputs": [],
   "source": [
    "best_C = grid_search.best_params_['C']\n",
    "best_svc = grid_search.best_estimator_"
   ]
  },
  {
   "cell_type": "code",
   "execution_count": null,
   "id": "00fc71cc",
   "metadata": {},
   "outputs": [],
   "source": [
    "best_svc"
   ]
  },
  {
   "cell_type": "code",
   "execution_count": null,
   "id": "9f7ac6a5",
   "metadata": {},
   "outputs": [],
   "source": [
    "y_pred = best_svc.predict(X_test)"
   ]
  },
  {
   "cell_type": "code",
   "execution_count": null,
   "id": "6096aa6a",
   "metadata": {},
   "outputs": [],
   "source": [
    "accuracy = accuracy_score(y_test, y_pred)\n",
    "print(\"Accuracy:\", accuracy)"
   ]
  },
  {
   "cell_type": "code",
   "execution_count": null,
   "id": "11bd5974",
   "metadata": {},
   "outputs": [],
   "source": [
    "y_pred"
   ]
  },
  {
   "cell_type": "code",
   "execution_count": null,
   "id": "a2a3b625",
   "metadata": {},
   "outputs": [],
   "source": [
    "y_scores = best_svc.predict_proba(X_test)[:, 1]"
   ]
  },
  {
   "cell_type": "code",
   "execution_count": null,
   "id": "88d357ad",
   "metadata": {},
   "outputs": [],
   "source": [
    "# Calculate ROC curve and AUC\n",
    "fpr, tpr, _ = roc_curve(y_test, y_scores)\n",
    "roc_auc = auc(fpr, tpr)\n",
    "\n",
    "# Plot ROC curve\n",
    "plt.figure(figsize=(8, 6))\n",
    "plt.plot(fpr, tpr, color='darkorange', lw=2, label=f'ROC curve (AUC = {roc_auc:.2f})')\n",
    "plt.plot([0, 1], [0, 1], color='navy', lw=2, linestyle='--')\n",
    "plt.xlim([0.0, 1.0])\n",
    "plt.ylim([0.0, 1.05])\n",
    "plt.xlabel('False Positive Rate')\n",
    "plt.ylabel('True Positive Rate')\n",
    "plt.title('Receiver Operating Characteristic (ROC) Curve')\n",
    "plt.legend(loc='lower right')\n",
    "plt.show()\n",
    "\n"
   ]
  },
  {
   "cell_type": "code",
   "execution_count": null,
   "id": "90023fce",
   "metadata": {},
   "outputs": [],
   "source": []
  }
 ],
 "metadata": {
  "kernelspec": {
   "display_name": "Python 3 (ipykernel)",
   "language": "python",
   "name": "python3"
  },
  "language_info": {
   "codemirror_mode": {
    "name": "ipython",
    "version": 3
   },
   "file_extension": ".py",
   "mimetype": "text/x-python",
   "name": "python",
   "nbconvert_exporter": "python",
   "pygments_lexer": "ipython3",
   "version": "3.9.13"
  },
  "varInspector": {
   "cols": {
    "lenName": 16,
    "lenType": 16,
    "lenVar": 40
   },
   "kernels_config": {
    "python": {
     "delete_cmd_postfix": "",
     "delete_cmd_prefix": "del ",
     "library": "var_list.py",
     "varRefreshCmd": "print(var_dic_list())"
    },
    "r": {
     "delete_cmd_postfix": ") ",
     "delete_cmd_prefix": "rm(",
     "library": "var_list.r",
     "varRefreshCmd": "cat(var_dic_list()) "
    }
   },
   "types_to_exclude": [
    "module",
    "function",
    "builtin_function_or_method",
    "instance",
    "_Feature"
   ],
   "window_display": false
  }
 },
 "nbformat": 4,
 "nbformat_minor": 5
}
