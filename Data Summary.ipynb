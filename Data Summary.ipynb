{
 "cells": [
  {
   "cell_type": "code",
   "execution_count": 1,
   "id": "352b0e0e",
   "metadata": {},
   "outputs": [
    {
     "name": "stdout",
     "output_type": "stream",
     "text": [
      "Intel MKL WARNING: Support of Intel(R) Streaming SIMD Extensions 4.2 (Intel(R) SSE4.2) enabled only processors has been deprecated. Intel oneAPI Math Kernel Library 2025.0 will require Intel(R) Advanced Vector Extensions (Intel(R) AVX) instructions.\n",
      "Intel MKL WARNING: Support of Intel(R) Streaming SIMD Extensions 4.2 (Intel(R) SSE4.2) enabled only processors has been deprecated. Intel oneAPI Math Kernel Library 2025.0 will require Intel(R) Advanced Vector Extensions (Intel(R) AVX) instructions.\n"
     ]
    }
   ],
   "source": [
    "from scipy.stats import ttest_ind\n",
    "import pandas as pd\n",
    "import numpy as np\n",
    "from sklearn.model_selection import train_test_split\n",
    "from sklearn import svm\n",
    "from sklearn.metrics import accuracy_score\n",
    "from sklearn.svm import SVC\n",
    "from sklearn.metrics import roc_curve, roc_auc_score, auc\n",
    "from sklearn.model_selection import GridSearchCV\n"
   ]
  },
  {
   "cell_type": "code",
   "execution_count": 2,
   "id": "2af35aec",
   "metadata": {},
   "outputs": [
    {
     "name": "stderr",
     "output_type": "stream",
     "text": [
      "/var/folders/b3/kkdtnh4d4gjgrk45d_yrf4100000gn/T/ipykernel_1885/3811312610.py:3: DtypeWarning: Columns (43) have mixed types. Specify dtype option on import or set low_memory=False.\n",
      "  hpvdata = pd.read_csv(file_path)\n"
     ]
    }
   ],
   "source": [
    "#read the data\n",
    "file_path = 'hpvdata.csv'\n",
    "hpvdata = pd.read_csv(file_path)"
   ]
  },
  {
   "cell_type": "code",
   "execution_count": 3,
   "id": "2d607d36",
   "metadata": {},
   "outputs": [],
   "source": [
    "#filter out all records that has NA values on VAX attitude\n",
    "hpvdata_cleaned = hpvdata.dropna(subset=['HPV_VAX_attitu_s35'])"
   ]
  },
  {
   "cell_type": "code",
   "execution_count": 4,
   "id": "822e5522",
   "metadata": {},
   "outputs": [],
   "source": [
    "# Calculate the percentage of available (non-missing) values in each column\n",
    "available_percentage = 100 - ((hpvdata_cleaned.isnull().sum() / len(hpvdata_cleaned)) * 100)\n",
    "# Identify columns with more than 50% available values\n",
    "columns_to_select = available_percentage[available_percentage > 50].index\n",
    "# Select the columns from the DataFrame\n",
    "hpvdata_cleaned = hpvdata_cleaned[columns_to_select]"
   ]
  },
  {
   "cell_type": "code",
   "execution_count": 5,
   "id": "a4d38c09",
   "metadata": {},
   "outputs": [
    {
     "name": "stderr",
     "output_type": "stream",
     "text": [
      "/var/folders/b3/kkdtnh4d4gjgrk45d_yrf4100000gn/T/ipykernel_1885/481184728.py:2: FutureWarning: The default value of numeric_only in DataFrame.corr is deprecated. In a future version, it will default to False. Select only valid columns or specify the value of numeric_only to silence this warning.\n",
      "  corrmatrix  = hpvdata_cleaned.corr()\n"
     ]
    }
   ],
   "source": [
    "# Generate correlation matrix\n",
    "corrmatrix  = hpvdata_cleaned.corr()"
   ]
  },
  {
   "cell_type": "code",
   "execution_count": 39,
   "id": "5f2b3db0",
   "metadata": {},
   "outputs": [
    {
     "name": "stderr",
     "output_type": "stream",
     "text": [
      "/var/folders/b3/kkdtnh4d4gjgrk45d_yrf4100000gn/T/ipykernel_1885/2635644772.py:1: FutureWarning: The default value of numeric_only in DataFrame.corr is deprecated. In a future version, it will default to False. Select only valid columns or specify the value of numeric_only to silence this warning.\n",
      "  corrmatrix  = hpvdata_cleaned.corr()\n"
     ]
    },
    {
     "data": {
      "text/html": [
       "<div>\n",
       "<style scoped>\n",
       "    .dataframe tbody tr th:only-of-type {\n",
       "        vertical-align: middle;\n",
       "    }\n",
       "\n",
       "    .dataframe tbody tr th {\n",
       "        vertical-align: top;\n",
       "    }\n",
       "\n",
       "    .dataframe thead th {\n",
       "        text-align: right;\n",
       "    }\n",
       "</style>\n",
       "<table border=\"1\" class=\"dataframe\">\n",
       "  <thead>\n",
       "    <tr style=\"text-align: right;\">\n",
       "      <th></th>\n",
       "      <th>caseid</th>\n",
       "      <th>consent</th>\n",
       "      <th>call_status</th>\n",
       "      <th>sec1_q2</th>\n",
       "      <th>sec1_q3</th>\n",
       "      <th>sec1_q4</th>\n",
       "      <th>sec1_q5</th>\n",
       "      <th>sec1_q6</th>\n",
       "      <th>sec1_q7</th>\n",
       "      <th>sec1_q8</th>\n",
       "      <th>...</th>\n",
       "      <th>sec3_qRb31</th>\n",
       "      <th>sec3_qRb32</th>\n",
       "      <th>sec3_qRb33</th>\n",
       "      <th>Child_VAX_attitu_s35</th>\n",
       "      <th>Child_VAX_attitu_s7a</th>\n",
       "      <th>Child_VAX_attitu_s7b</th>\n",
       "      <th>sec5_qN60</th>\n",
       "      <th>sec5_qN62</th>\n",
       "      <th>sec5_qN63</th>\n",
       "      <th>sec5_qN65</th>\n",
       "    </tr>\n",
       "  </thead>\n",
       "  <tbody>\n",
       "    <tr>\n",
       "      <th>caseid</th>\n",
       "      <td>1.000000</td>\n",
       "      <td>NaN</td>\n",
       "      <td>NaN</td>\n",
       "      <td>NaN</td>\n",
       "      <td>-0.013378</td>\n",
       "      <td>0.028922</td>\n",
       "      <td>-0.053046</td>\n",
       "      <td>-0.002875</td>\n",
       "      <td>0.012622</td>\n",
       "      <td>-0.028071</td>\n",
       "      <td>...</td>\n",
       "      <td>-0.089645</td>\n",
       "      <td>-0.072572</td>\n",
       "      <td>-0.018107</td>\n",
       "      <td>-0.089847</td>\n",
       "      <td>-0.085736</td>\n",
       "      <td>-0.082453</td>\n",
       "      <td>0.070300</td>\n",
       "      <td>0.004764</td>\n",
       "      <td>0.093545</td>\n",
       "      <td>-0.003074</td>\n",
       "    </tr>\n",
       "    <tr>\n",
       "      <th>consent</th>\n",
       "      <td>NaN</td>\n",
       "      <td>NaN</td>\n",
       "      <td>NaN</td>\n",
       "      <td>NaN</td>\n",
       "      <td>NaN</td>\n",
       "      <td>NaN</td>\n",
       "      <td>NaN</td>\n",
       "      <td>NaN</td>\n",
       "      <td>NaN</td>\n",
       "      <td>NaN</td>\n",
       "      <td>...</td>\n",
       "      <td>NaN</td>\n",
       "      <td>NaN</td>\n",
       "      <td>NaN</td>\n",
       "      <td>NaN</td>\n",
       "      <td>NaN</td>\n",
       "      <td>NaN</td>\n",
       "      <td>NaN</td>\n",
       "      <td>NaN</td>\n",
       "      <td>NaN</td>\n",
       "      <td>NaN</td>\n",
       "    </tr>\n",
       "    <tr>\n",
       "      <th>call_status</th>\n",
       "      <td>NaN</td>\n",
       "      <td>NaN</td>\n",
       "      <td>NaN</td>\n",
       "      <td>NaN</td>\n",
       "      <td>NaN</td>\n",
       "      <td>NaN</td>\n",
       "      <td>NaN</td>\n",
       "      <td>NaN</td>\n",
       "      <td>NaN</td>\n",
       "      <td>NaN</td>\n",
       "      <td>...</td>\n",
       "      <td>NaN</td>\n",
       "      <td>NaN</td>\n",
       "      <td>NaN</td>\n",
       "      <td>NaN</td>\n",
       "      <td>NaN</td>\n",
       "      <td>NaN</td>\n",
       "      <td>NaN</td>\n",
       "      <td>NaN</td>\n",
       "      <td>NaN</td>\n",
       "      <td>NaN</td>\n",
       "    </tr>\n",
       "    <tr>\n",
       "      <th>sec1_q2</th>\n",
       "      <td>NaN</td>\n",
       "      <td>NaN</td>\n",
       "      <td>NaN</td>\n",
       "      <td>NaN</td>\n",
       "      <td>NaN</td>\n",
       "      <td>NaN</td>\n",
       "      <td>NaN</td>\n",
       "      <td>NaN</td>\n",
       "      <td>NaN</td>\n",
       "      <td>NaN</td>\n",
       "      <td>...</td>\n",
       "      <td>NaN</td>\n",
       "      <td>NaN</td>\n",
       "      <td>NaN</td>\n",
       "      <td>NaN</td>\n",
       "      <td>NaN</td>\n",
       "      <td>NaN</td>\n",
       "      <td>NaN</td>\n",
       "      <td>NaN</td>\n",
       "      <td>NaN</td>\n",
       "      <td>NaN</td>\n",
       "    </tr>\n",
       "    <tr>\n",
       "      <th>sec1_q3</th>\n",
       "      <td>-0.013378</td>\n",
       "      <td>NaN</td>\n",
       "      <td>NaN</td>\n",
       "      <td>NaN</td>\n",
       "      <td>1.000000</td>\n",
       "      <td>-0.173458</td>\n",
       "      <td>-0.008619</td>\n",
       "      <td>0.009330</td>\n",
       "      <td>0.006349</td>\n",
       "      <td>-0.014018</td>\n",
       "      <td>...</td>\n",
       "      <td>0.055358</td>\n",
       "      <td>0.069876</td>\n",
       "      <td>-0.001396</td>\n",
       "      <td>0.072239</td>\n",
       "      <td>0.074165</td>\n",
       "      <td>0.078569</td>\n",
       "      <td>-0.044272</td>\n",
       "      <td>-0.019964</td>\n",
       "      <td>-0.039078</td>\n",
       "      <td>-0.156494</td>\n",
       "    </tr>\n",
       "    <tr>\n",
       "      <th>...</th>\n",
       "      <td>...</td>\n",
       "      <td>...</td>\n",
       "      <td>...</td>\n",
       "      <td>...</td>\n",
       "      <td>...</td>\n",
       "      <td>...</td>\n",
       "      <td>...</td>\n",
       "      <td>...</td>\n",
       "      <td>...</td>\n",
       "      <td>...</td>\n",
       "      <td>...</td>\n",
       "      <td>...</td>\n",
       "      <td>...</td>\n",
       "      <td>...</td>\n",
       "      <td>...</td>\n",
       "      <td>...</td>\n",
       "      <td>...</td>\n",
       "      <td>...</td>\n",
       "      <td>...</td>\n",
       "      <td>...</td>\n",
       "      <td>...</td>\n",
       "    </tr>\n",
       "    <tr>\n",
       "      <th>Child_VAX_attitu_s7b</th>\n",
       "      <td>-0.082453</td>\n",
       "      <td>NaN</td>\n",
       "      <td>NaN</td>\n",
       "      <td>NaN</td>\n",
       "      <td>0.078569</td>\n",
       "      <td>-0.027179</td>\n",
       "      <td>0.078240</td>\n",
       "      <td>-0.028559</td>\n",
       "      <td>-0.043565</td>\n",
       "      <td>-0.065771</td>\n",
       "      <td>...</td>\n",
       "      <td>0.845796</td>\n",
       "      <td>0.807396</td>\n",
       "      <td>0.411997</td>\n",
       "      <td>0.978443</td>\n",
       "      <td>1.000000</td>\n",
       "      <td>1.000000</td>\n",
       "      <td>-0.033342</td>\n",
       "      <td>-0.092221</td>\n",
       "      <td>-0.059452</td>\n",
       "      <td>0.065359</td>\n",
       "    </tr>\n",
       "    <tr>\n",
       "      <th>sec5_qN60</th>\n",
       "      <td>0.070300</td>\n",
       "      <td>NaN</td>\n",
       "      <td>NaN</td>\n",
       "      <td>NaN</td>\n",
       "      <td>-0.044272</td>\n",
       "      <td>0.085550</td>\n",
       "      <td>-0.094172</td>\n",
       "      <td>-0.015003</td>\n",
       "      <td>-0.012866</td>\n",
       "      <td>-0.020471</td>\n",
       "      <td>...</td>\n",
       "      <td>-0.003980</td>\n",
       "      <td>0.020794</td>\n",
       "      <td>-0.022638</td>\n",
       "      <td>-0.039315</td>\n",
       "      <td>-0.034036</td>\n",
       "      <td>-0.033342</td>\n",
       "      <td>1.000000</td>\n",
       "      <td>0.338714</td>\n",
       "      <td>0.151745</td>\n",
       "      <td>0.058961</td>\n",
       "    </tr>\n",
       "    <tr>\n",
       "      <th>sec5_qN62</th>\n",
       "      <td>0.004764</td>\n",
       "      <td>NaN</td>\n",
       "      <td>NaN</td>\n",
       "      <td>NaN</td>\n",
       "      <td>-0.019964</td>\n",
       "      <td>0.019976</td>\n",
       "      <td>-0.079532</td>\n",
       "      <td>-0.012937</td>\n",
       "      <td>-0.009131</td>\n",
       "      <td>-0.016249</td>\n",
       "      <td>...</td>\n",
       "      <td>-0.058255</td>\n",
       "      <td>-0.047463</td>\n",
       "      <td>-0.040552</td>\n",
       "      <td>-0.099525</td>\n",
       "      <td>-0.092489</td>\n",
       "      <td>-0.092221</td>\n",
       "      <td>0.338714</td>\n",
       "      <td>1.000000</td>\n",
       "      <td>0.092158</td>\n",
       "      <td>-0.044951</td>\n",
       "    </tr>\n",
       "    <tr>\n",
       "      <th>sec5_qN63</th>\n",
       "      <td>0.093545</td>\n",
       "      <td>NaN</td>\n",
       "      <td>NaN</td>\n",
       "      <td>NaN</td>\n",
       "      <td>-0.039078</td>\n",
       "      <td>0.062152</td>\n",
       "      <td>-0.036060</td>\n",
       "      <td>-0.014348</td>\n",
       "      <td>-0.010698</td>\n",
       "      <td>-0.018516</td>\n",
       "      <td>...</td>\n",
       "      <td>-0.064264</td>\n",
       "      <td>-0.016162</td>\n",
       "      <td>-0.015127</td>\n",
       "      <td>-0.063623</td>\n",
       "      <td>-0.059250</td>\n",
       "      <td>-0.059452</td>\n",
       "      <td>0.151745</td>\n",
       "      <td>0.092158</td>\n",
       "      <td>1.000000</td>\n",
       "      <td>0.029508</td>\n",
       "    </tr>\n",
       "    <tr>\n",
       "      <th>sec5_qN65</th>\n",
       "      <td>-0.003074</td>\n",
       "      <td>NaN</td>\n",
       "      <td>NaN</td>\n",
       "      <td>NaN</td>\n",
       "      <td>-0.156494</td>\n",
       "      <td>0.042668</td>\n",
       "      <td>0.004184</td>\n",
       "      <td>0.029875</td>\n",
       "      <td>0.020500</td>\n",
       "      <td>-0.029411</td>\n",
       "      <td>...</td>\n",
       "      <td>0.046891</td>\n",
       "      <td>0.044086</td>\n",
       "      <td>0.036257</td>\n",
       "      <td>0.056870</td>\n",
       "      <td>0.064292</td>\n",
       "      <td>0.065359</td>\n",
       "      <td>0.058961</td>\n",
       "      <td>-0.044951</td>\n",
       "      <td>0.029508</td>\n",
       "      <td>1.000000</td>\n",
       "    </tr>\n",
       "  </tbody>\n",
       "</table>\n",
       "<p>241 rows × 241 columns</p>\n",
       "</div>"
      ],
      "text/plain": [
       "                        caseid  consent  call_status  sec1_q2   sec1_q3  \\\n",
       "caseid                1.000000      NaN          NaN      NaN -0.013378   \n",
       "consent                    NaN      NaN          NaN      NaN       NaN   \n",
       "call_status                NaN      NaN          NaN      NaN       NaN   \n",
       "sec1_q2                    NaN      NaN          NaN      NaN       NaN   \n",
       "sec1_q3              -0.013378      NaN          NaN      NaN  1.000000   \n",
       "...                        ...      ...          ...      ...       ...   \n",
       "Child_VAX_attitu_s7b -0.082453      NaN          NaN      NaN  0.078569   \n",
       "sec5_qN60             0.070300      NaN          NaN      NaN -0.044272   \n",
       "sec5_qN62             0.004764      NaN          NaN      NaN -0.019964   \n",
       "sec5_qN63             0.093545      NaN          NaN      NaN -0.039078   \n",
       "sec5_qN65            -0.003074      NaN          NaN      NaN -0.156494   \n",
       "\n",
       "                       sec1_q4   sec1_q5   sec1_q6   sec1_q7   sec1_q8  ...  \\\n",
       "caseid                0.028922 -0.053046 -0.002875  0.012622 -0.028071  ...   \n",
       "consent                    NaN       NaN       NaN       NaN       NaN  ...   \n",
       "call_status                NaN       NaN       NaN       NaN       NaN  ...   \n",
       "sec1_q2                    NaN       NaN       NaN       NaN       NaN  ...   \n",
       "sec1_q3              -0.173458 -0.008619  0.009330  0.006349 -0.014018  ...   \n",
       "...                        ...       ...       ...       ...       ...  ...   \n",
       "Child_VAX_attitu_s7b -0.027179  0.078240 -0.028559 -0.043565 -0.065771  ...   \n",
       "sec5_qN60             0.085550 -0.094172 -0.015003 -0.012866 -0.020471  ...   \n",
       "sec5_qN62             0.019976 -0.079532 -0.012937 -0.009131 -0.016249  ...   \n",
       "sec5_qN63             0.062152 -0.036060 -0.014348 -0.010698 -0.018516  ...   \n",
       "sec5_qN65             0.042668  0.004184  0.029875  0.020500 -0.029411  ...   \n",
       "\n",
       "                      sec3_qRb31  sec3_qRb32  sec3_qRb33  \\\n",
       "caseid                 -0.089645   -0.072572   -0.018107   \n",
       "consent                      NaN         NaN         NaN   \n",
       "call_status                  NaN         NaN         NaN   \n",
       "sec1_q2                      NaN         NaN         NaN   \n",
       "sec1_q3                 0.055358    0.069876   -0.001396   \n",
       "...                          ...         ...         ...   \n",
       "Child_VAX_attitu_s7b    0.845796    0.807396    0.411997   \n",
       "sec5_qN60              -0.003980    0.020794   -0.022638   \n",
       "sec5_qN62              -0.058255   -0.047463   -0.040552   \n",
       "sec5_qN63              -0.064264   -0.016162   -0.015127   \n",
       "sec5_qN65               0.046891    0.044086    0.036257   \n",
       "\n",
       "                      Child_VAX_attitu_s35  Child_VAX_attitu_s7a  \\\n",
       "caseid                           -0.089847             -0.085736   \n",
       "consent                                NaN                   NaN   \n",
       "call_status                            NaN                   NaN   \n",
       "sec1_q2                                NaN                   NaN   \n",
       "sec1_q3                           0.072239              0.074165   \n",
       "...                                    ...                   ...   \n",
       "Child_VAX_attitu_s7b              0.978443              1.000000   \n",
       "sec5_qN60                        -0.039315             -0.034036   \n",
       "sec5_qN62                        -0.099525             -0.092489   \n",
       "sec5_qN63                        -0.063623             -0.059250   \n",
       "sec5_qN65                         0.056870              0.064292   \n",
       "\n",
       "                      Child_VAX_attitu_s7b  sec5_qN60  sec5_qN62  sec5_qN63  \\\n",
       "caseid                           -0.082453   0.070300   0.004764   0.093545   \n",
       "consent                                NaN        NaN        NaN        NaN   \n",
       "call_status                            NaN        NaN        NaN        NaN   \n",
       "sec1_q2                                NaN        NaN        NaN        NaN   \n",
       "sec1_q3                           0.078569  -0.044272  -0.019964  -0.039078   \n",
       "...                                    ...        ...        ...        ...   \n",
       "Child_VAX_attitu_s7b              1.000000  -0.033342  -0.092221  -0.059452   \n",
       "sec5_qN60                        -0.033342   1.000000   0.338714   0.151745   \n",
       "sec5_qN62                        -0.092221   0.338714   1.000000   0.092158   \n",
       "sec5_qN63                        -0.059452   0.151745   0.092158   1.000000   \n",
       "sec5_qN65                         0.065359   0.058961  -0.044951   0.029508   \n",
       "\n",
       "                      sec5_qN65  \n",
       "caseid                -0.003074  \n",
       "consent                     NaN  \n",
       "call_status                 NaN  \n",
       "sec1_q2                     NaN  \n",
       "sec1_q3               -0.156494  \n",
       "...                         ...  \n",
       "Child_VAX_attitu_s7b   0.065359  \n",
       "sec5_qN60              0.058961  \n",
       "sec5_qN62             -0.044951  \n",
       "sec5_qN63              0.029508  \n",
       "sec5_qN65              1.000000  \n",
       "\n",
       "[241 rows x 241 columns]"
      ]
     },
     "execution_count": 39,
     "metadata": {},
     "output_type": "execute_result"
    }
   ],
   "source": [
    "corrmatrix  = hpvdata_cleaned.corr()\n",
    "corrmatrix\n"
   ]
  },
  {
   "cell_type": "code",
   "execution_count": 6,
   "id": "9fe16ad2",
   "metadata": {},
   "outputs": [],
   "source": [
    "vars_ =  {}\n",
    "for idx in corrmatrix.index:\n",
    "    if abs(corrmatrix['HPV_VAX_attitu_s35'][idx])>0.7:\n",
    "        vars_[idx] = corrmatrix['HPV_VAX_attitu_s35'][idx]"
   ]
  },
  {
   "cell_type": "code",
   "execution_count": 7,
   "id": "3b6c7077",
   "metadata": {},
   "outputs": [
    {
     "data": {
      "text/plain": [
       "{'sec3_qNa40': -0.8194895556300539,\n",
       " 'sec3_qNa41': -0.8288331487679043,\n",
       " 'sec3_qNa42': -0.7710387294314973,\n",
       " 'sec3_qNb40': -0.8194895556300539,\n",
       " 'sec3_qNb41': -0.8288331487679043,\n",
       " 'sec3_qNb42': -0.7710387294314973,\n",
       " 'sec3_qRa40': 0.8194895556300534,\n",
       " 'sec3_qRa41': 0.8288331487679041,\n",
       " 'sec3_qRa42': 0.7710387294314969,\n",
       " 'sec3_qRb40': 0.8194895556300534,\n",
       " 'sec3_qRb41': 0.8288331487679041,\n",
       " 'sec3_qRb42': 0.7710387294314969,\n",
       " 'HPV_VAX_attitu_s35': 1.0,\n",
       " 'HPV_VAX_attitu_s7a': 0.9772577624729988,\n",
       " 'HPV_VAX_attitu_s7b': 0.9772577624729988}"
      ]
     },
     "execution_count": 7,
     "metadata": {},
     "output_type": "execute_result"
    }
   ],
   "source": [
    "# highly correlated variables\n",
    "vars_"
   ]
  },
  {
   "cell_type": "code",
   "execution_count": 8,
   "id": "b76425e8",
   "metadata": {},
   "outputs": [
    {
     "data": {
      "text/plain": [
       "0       14.0\n",
       "1        7.0\n",
       "2       20.0\n",
       "3       23.0\n",
       "4       20.0\n",
       "        ... \n",
       "1339     7.0\n",
       "1343    16.0\n",
       "1344     7.0\n",
       "1345    10.0\n",
       "1346     7.0\n",
       "Name: HPV_VAX_attitu_s35, Length: 1035, dtype: float64"
      ]
     },
     "execution_count": 8,
     "metadata": {},
     "output_type": "execute_result"
    }
   ],
   "source": [
    "hpvdata_cleaned['HPV_VAX_attitu_s35']\n",
    "#higher the value, more negative"
   ]
  },
  {
   "cell_type": "code",
   "execution_count": 24,
   "id": "e323498a",
   "metadata": {},
   "outputs": [],
   "source": [
    "df_low_attitude = hpvdata_cleaned[hpvdata_cleaned['HPV_VAX_attitu_s35']<=np.nanmedian(hpvdata_cleaned['HPV_VAX_attitu_s35'])]\n",
    "df_high_attitude = hpvdata_cleaned[hpvdata_cleaned['HPV_VAX_attitu_s35']>np.nanmedian(hpvdata_cleaned['HPV_VAX_attitu_s35'])]\n"
   ]
  },
  {
   "cell_type": "code",
   "execution_count": 25,
   "id": "41ad0cea",
   "metadata": {},
   "outputs": [
    {
     "data": {
      "text/html": [
       "<div>\n",
       "<style scoped>\n",
       "    .dataframe tbody tr th:only-of-type {\n",
       "        vertical-align: middle;\n",
       "    }\n",
       "\n",
       "    .dataframe tbody tr th {\n",
       "        vertical-align: top;\n",
       "    }\n",
       "\n",
       "    .dataframe thead th {\n",
       "        text-align: right;\n",
       "    }\n",
       "</style>\n",
       "<table border=\"1\" class=\"dataframe\">\n",
       "  <thead>\n",
       "    <tr style=\"text-align: right;\">\n",
       "      <th></th>\n",
       "      <th>caseid</th>\n",
       "      <th>consent</th>\n",
       "      <th>call_status</th>\n",
       "      <th>sec1_q2</th>\n",
       "      <th>sec1_q3</th>\n",
       "      <th>sec1_q4</th>\n",
       "      <th>sec1_q5</th>\n",
       "      <th>sec1_q6</th>\n",
       "      <th>sec1_q7</th>\n",
       "      <th>sec1_q8</th>\n",
       "      <th>...</th>\n",
       "      <th>sec3_qRb31</th>\n",
       "      <th>sec3_qRb32</th>\n",
       "      <th>sec3_qRb33</th>\n",
       "      <th>Child_VAX_attitu_s35</th>\n",
       "      <th>Child_VAX_attitu_s7a</th>\n",
       "      <th>Child_VAX_attitu_s7b</th>\n",
       "      <th>sec5_qN60</th>\n",
       "      <th>sec5_qN62</th>\n",
       "      <th>sec5_qN63</th>\n",
       "      <th>sec5_qN65</th>\n",
       "    </tr>\n",
       "  </thead>\n",
       "  <tbody>\n",
       "    <tr>\n",
       "      <th>2</th>\n",
       "      <td>10077</td>\n",
       "      <td>1</td>\n",
       "      <td>1</td>\n",
       "      <td>1</td>\n",
       "      <td>1</td>\n",
       "      <td>2</td>\n",
       "      <td>1</td>\n",
       "      <td>5</td>\n",
       "      <td>3</td>\n",
       "      <td>5</td>\n",
       "      <td>...</td>\n",
       "      <td>0.0</td>\n",
       "      <td>0.0</td>\n",
       "      <td>0.0</td>\n",
       "      <td>7.0</td>\n",
       "      <td>0.0</td>\n",
       "      <td>0.0</td>\n",
       "      <td>1.0</td>\n",
       "      <td>1.0</td>\n",
       "      <td>1.0</td>\n",
       "      <td>1.0</td>\n",
       "    </tr>\n",
       "    <tr>\n",
       "      <th>3</th>\n",
       "      <td>10086</td>\n",
       "      <td>1</td>\n",
       "      <td>1</td>\n",
       "      <td>1</td>\n",
       "      <td>1</td>\n",
       "      <td>1</td>\n",
       "      <td>3</td>\n",
       "      <td>1</td>\n",
       "      <td>3</td>\n",
       "      <td>3</td>\n",
       "      <td>...</td>\n",
       "      <td>1.0</td>\n",
       "      <td>1.0</td>\n",
       "      <td>0.0</td>\n",
       "      <td>19.0</td>\n",
       "      <td>3.0</td>\n",
       "      <td>3.0</td>\n",
       "      <td>1.0</td>\n",
       "      <td>1.0</td>\n",
       "      <td>1.0</td>\n",
       "      <td>0.0</td>\n",
       "    </tr>\n",
       "    <tr>\n",
       "      <th>4</th>\n",
       "      <td>10088</td>\n",
       "      <td>1</td>\n",
       "      <td>1</td>\n",
       "      <td>1</td>\n",
       "      <td>2</td>\n",
       "      <td>1</td>\n",
       "      <td>3</td>\n",
       "      <td>2</td>\n",
       "      <td>3</td>\n",
       "      <td>5</td>\n",
       "      <td>...</td>\n",
       "      <td>1.0</td>\n",
       "      <td>1.0</td>\n",
       "      <td>0.0</td>\n",
       "      <td>19.0</td>\n",
       "      <td>3.0</td>\n",
       "      <td>3.0</td>\n",
       "      <td>1.0</td>\n",
       "      <td>1.0</td>\n",
       "      <td>0.0</td>\n",
       "      <td>0.0</td>\n",
       "    </tr>\n",
       "    <tr>\n",
       "      <th>10</th>\n",
       "      <td>10127</td>\n",
       "      <td>1</td>\n",
       "      <td>1</td>\n",
       "      <td>1</td>\n",
       "      <td>2</td>\n",
       "      <td>2</td>\n",
       "      <td>3</td>\n",
       "      <td>4</td>\n",
       "      <td>3</td>\n",
       "      <td>4</td>\n",
       "      <td>...</td>\n",
       "      <td>1.0</td>\n",
       "      <td>1.0</td>\n",
       "      <td>1.0</td>\n",
       "      <td>24.0</td>\n",
       "      <td>4.0</td>\n",
       "      <td>4.0</td>\n",
       "      <td>1.0</td>\n",
       "      <td>1.0</td>\n",
       "      <td>1.0</td>\n",
       "      <td>0.0</td>\n",
       "    </tr>\n",
       "    <tr>\n",
       "      <th>12</th>\n",
       "      <td>10149</td>\n",
       "      <td>1</td>\n",
       "      <td>1</td>\n",
       "      <td>1</td>\n",
       "      <td>1</td>\n",
       "      <td>2</td>\n",
       "      <td>3</td>\n",
       "      <td>4</td>\n",
       "      <td>3</td>\n",
       "      <td>4</td>\n",
       "      <td>...</td>\n",
       "      <td>1.0</td>\n",
       "      <td>1.0</td>\n",
       "      <td>1.0</td>\n",
       "      <td>23.0</td>\n",
       "      <td>4.0</td>\n",
       "      <td>4.0</td>\n",
       "      <td>1.0</td>\n",
       "      <td>1.0</td>\n",
       "      <td>1.0</td>\n",
       "      <td>1.0</td>\n",
       "    </tr>\n",
       "    <tr>\n",
       "      <th>...</th>\n",
       "      <td>...</td>\n",
       "      <td>...</td>\n",
       "      <td>...</td>\n",
       "      <td>...</td>\n",
       "      <td>...</td>\n",
       "      <td>...</td>\n",
       "      <td>...</td>\n",
       "      <td>...</td>\n",
       "      <td>...</td>\n",
       "      <td>...</td>\n",
       "      <td>...</td>\n",
       "      <td>...</td>\n",
       "      <td>...</td>\n",
       "      <td>...</td>\n",
       "      <td>...</td>\n",
       "      <td>...</td>\n",
       "      <td>...</td>\n",
       "      <td>...</td>\n",
       "      <td>...</td>\n",
       "      <td>...</td>\n",
       "      <td>...</td>\n",
       "    </tr>\n",
       "    <tr>\n",
       "      <th>1331</th>\n",
       "      <td>9607</td>\n",
       "      <td>1</td>\n",
       "      <td>1</td>\n",
       "      <td>1</td>\n",
       "      <td>2</td>\n",
       "      <td>2</td>\n",
       "      <td>3</td>\n",
       "      <td>4</td>\n",
       "      <td>3</td>\n",
       "      <td>5</td>\n",
       "      <td>...</td>\n",
       "      <td>1.0</td>\n",
       "      <td>1.0</td>\n",
       "      <td>1.0</td>\n",
       "      <td>23.0</td>\n",
       "      <td>4.0</td>\n",
       "      <td>4.0</td>\n",
       "      <td>1.0</td>\n",
       "      <td>1.0</td>\n",
       "      <td>1.0</td>\n",
       "      <td>0.0</td>\n",
       "    </tr>\n",
       "    <tr>\n",
       "      <th>1333</th>\n",
       "      <td>9618</td>\n",
       "      <td>1</td>\n",
       "      <td>1</td>\n",
       "      <td>1</td>\n",
       "      <td>1</td>\n",
       "      <td>1</td>\n",
       "      <td>3</td>\n",
       "      <td>1</td>\n",
       "      <td>3</td>\n",
       "      <td>5</td>\n",
       "      <td>...</td>\n",
       "      <td>1.0</td>\n",
       "      <td>1.0</td>\n",
       "      <td>1.0</td>\n",
       "      <td>22.0</td>\n",
       "      <td>4.0</td>\n",
       "      <td>4.0</td>\n",
       "      <td>1.0</td>\n",
       "      <td>1.0</td>\n",
       "      <td>0.0</td>\n",
       "      <td>0.0</td>\n",
       "    </tr>\n",
       "    <tr>\n",
       "      <th>1336</th>\n",
       "      <td>9703</td>\n",
       "      <td>1</td>\n",
       "      <td>1</td>\n",
       "      <td>1</td>\n",
       "      <td>2</td>\n",
       "      <td>2</td>\n",
       "      <td>3</td>\n",
       "      <td>1</td>\n",
       "      <td>3</td>\n",
       "      <td>3</td>\n",
       "      <td>...</td>\n",
       "      <td>1.0</td>\n",
       "      <td>1.0</td>\n",
       "      <td>0.0</td>\n",
       "      <td>18.0</td>\n",
       "      <td>3.0</td>\n",
       "      <td>3.0</td>\n",
       "      <td>1.0</td>\n",
       "      <td>1.0</td>\n",
       "      <td>1.0</td>\n",
       "      <td>0.0</td>\n",
       "    </tr>\n",
       "    <tr>\n",
       "      <th>1338</th>\n",
       "      <td>9725</td>\n",
       "      <td>1</td>\n",
       "      <td>1</td>\n",
       "      <td>1</td>\n",
       "      <td>1</td>\n",
       "      <td>1</td>\n",
       "      <td>1</td>\n",
       "      <td>4</td>\n",
       "      <td>3</td>\n",
       "      <td>5</td>\n",
       "      <td>...</td>\n",
       "      <td>1.0</td>\n",
       "      <td>1.0</td>\n",
       "      <td>1.0</td>\n",
       "      <td>20.0</td>\n",
       "      <td>4.0</td>\n",
       "      <td>4.0</td>\n",
       "      <td>1.0</td>\n",
       "      <td>1.0</td>\n",
       "      <td>1.0</td>\n",
       "      <td>0.0</td>\n",
       "    </tr>\n",
       "    <tr>\n",
       "      <th>1343</th>\n",
       "      <td>9872</td>\n",
       "      <td>1</td>\n",
       "      <td>1</td>\n",
       "      <td>1</td>\n",
       "      <td>2</td>\n",
       "      <td>1</td>\n",
       "      <td>3</td>\n",
       "      <td>1</td>\n",
       "      <td>3</td>\n",
       "      <td>5</td>\n",
       "      <td>...</td>\n",
       "      <td>0.0</td>\n",
       "      <td>0.0</td>\n",
       "      <td>0.0</td>\n",
       "      <td>7.0</td>\n",
       "      <td>0.0</td>\n",
       "      <td>0.0</td>\n",
       "      <td>1.0</td>\n",
       "      <td>1.0</td>\n",
       "      <td>1.0</td>\n",
       "      <td>1.0</td>\n",
       "    </tr>\n",
       "  </tbody>\n",
       "</table>\n",
       "<p>498 rows × 292 columns</p>\n",
       "</div>"
      ],
      "text/plain": [
       "      caseid  consent  call_status  sec1_q2  sec1_q3  sec1_q4  sec1_q5  \\\n",
       "2      10077        1            1        1        1        2        1   \n",
       "3      10086        1            1        1        1        1        3   \n",
       "4      10088        1            1        1        2        1        3   \n",
       "10     10127        1            1        1        2        2        3   \n",
       "12     10149        1            1        1        1        2        3   \n",
       "...      ...      ...          ...      ...      ...      ...      ...   \n",
       "1331    9607        1            1        1        2        2        3   \n",
       "1333    9618        1            1        1        1        1        3   \n",
       "1336    9703        1            1        1        2        2        3   \n",
       "1338    9725        1            1        1        1        1        1   \n",
       "1343    9872        1            1        1        2        1        3   \n",
       "\n",
       "      sec1_q6  sec1_q7  sec1_q8  ...  sec3_qRb31  sec3_qRb32  sec3_qRb33  \\\n",
       "2           5        3        5  ...         0.0         0.0         0.0   \n",
       "3           1        3        3  ...         1.0         1.0         0.0   \n",
       "4           2        3        5  ...         1.0         1.0         0.0   \n",
       "10          4        3        4  ...         1.0         1.0         1.0   \n",
       "12          4        3        4  ...         1.0         1.0         1.0   \n",
       "...       ...      ...      ...  ...         ...         ...         ...   \n",
       "1331        4        3        5  ...         1.0         1.0         1.0   \n",
       "1333        1        3        5  ...         1.0         1.0         1.0   \n",
       "1336        1        3        3  ...         1.0         1.0         0.0   \n",
       "1338        4        3        5  ...         1.0         1.0         1.0   \n",
       "1343        1        3        5  ...         0.0         0.0         0.0   \n",
       "\n",
       "      Child_VAX_attitu_s35  Child_VAX_attitu_s7a  Child_VAX_attitu_s7b  \\\n",
       "2                      7.0                   0.0                   0.0   \n",
       "3                     19.0                   3.0                   3.0   \n",
       "4                     19.0                   3.0                   3.0   \n",
       "10                    24.0                   4.0                   4.0   \n",
       "12                    23.0                   4.0                   4.0   \n",
       "...                    ...                   ...                   ...   \n",
       "1331                  23.0                   4.0                   4.0   \n",
       "1333                  22.0                   4.0                   4.0   \n",
       "1336                  18.0                   3.0                   3.0   \n",
       "1338                  20.0                   4.0                   4.0   \n",
       "1343                   7.0                   0.0                   0.0   \n",
       "\n",
       "      sec5_qN60  sec5_qN62  sec5_qN63  sec5_qN65  \n",
       "2           1.0        1.0        1.0        1.0  \n",
       "3           1.0        1.0        1.0        0.0  \n",
       "4           1.0        1.0        0.0        0.0  \n",
       "10          1.0        1.0        1.0        0.0  \n",
       "12          1.0        1.0        1.0        1.0  \n",
       "...         ...        ...        ...        ...  \n",
       "1331        1.0        1.0        1.0        0.0  \n",
       "1333        1.0        1.0        0.0        0.0  \n",
       "1336        1.0        1.0        1.0        0.0  \n",
       "1338        1.0        1.0        1.0        0.0  \n",
       "1343        1.0        1.0        1.0        1.0  \n",
       "\n",
       "[498 rows x 292 columns]"
      ]
     },
     "execution_count": 25,
     "metadata": {},
     "output_type": "execute_result"
    }
   ],
   "source": [
    "df_high_attitude"
   ]
  },
  {
   "cell_type": "code",
   "execution_count": 38,
   "id": "10993e3c",
   "metadata": {},
   "outputs": [
    {
     "data": {
      "image/png": "[encoded data removed]",
      "text/plain": [
       "<Figure size 640x480 with 1 Axes>"
      ]
     },
     "metadata": {},
     "output_type": "display_data"
    }
   ],
   "source": [
    "import matplotlib.pyplot as plt\n",
    "df_high_attitude = df_high_attitude[df_high_attitude['sec1_q6']!=-999]\n",
    "plt.hist(df_high_attitude['sec1_q6'], bins=6, range=[1,7],edgecolor='black')  # Adjust 'bins' parameter as needed\n",
    "plt.title('Hidf_high_attitudestogram')\n",
    "plt.xlabel('Value')\n",
    "plt.ylabel('Frequency')\n",
    "plt.show()"
   ]
  },
  {
   "cell_type": "code",
   "execution_count": 10,
   "id": "7cd39565",
   "metadata": {},
   "outputs": [
    {
     "name": "stdout",
     "output_type": "stream",
     "text": [
      "median: 14.0\n"
     ]
    }
   ],
   "source": [
    "print('median:',np.median(hpvdata_cleaned['HPV_VAX_attitu_s35']))\n",
    "group1 = hpvdata_cleaned[hpvdata_cleaned['HPV_VAX_attitu_s35']<=14]\n",
    "group2 = hpvdata_cleaned[hpvdata_cleaned['HPV_VAX_attitu_s35']>14]"
   ]
  },
  {
   "cell_type": "code",
   "execution_count": 11,
   "id": "ed22898c",
   "metadata": {},
   "outputs": [
    {
     "name": "stdout",
     "output_type": "stream",
     "text": [
      "age\n",
      "Score<=14\n",
      "40.02420856610801\n",
      "Score>14\n",
      "37.70281124497992\n",
      "pvalue\n",
      "0.00010547514454224569\n"
     ]
    }
   ],
   "source": [
    "name = 'age'\n",
    "print(name)\n",
    "print('Score<=14')\n",
    "print(np.mean(group1[name]))\n",
    "print('Score>14')\n",
    "print(np.mean(group2[name]))\n",
    "print('pvalue')\n",
    "print(ttest_ind(group1[name],group2[name],equal_var=True).pvalue)"
   ]
  },
  {
   "cell_type": "code",
   "execution_count": 12,
   "id": "4a2bba18",
   "metadata": {},
   "outputs": [
    {
     "name": "stdout",
     "output_type": "stream",
     "text": [
      "household income\n",
      "Score<=17\n",
      "3.921787709497207\n",
      "Score>17\n",
      "3.8089430894308944\n",
      "pvalue\n",
      "0.10788887072652387\n"
     ]
    }
   ],
   "source": [
    "name = 'sec1_q8'\n",
    "print('household income')\n",
    "print('Score<=17')\n",
    "print(np.mean(group1[group1[name]>-1][name]))\n",
    "print('Score>17')\n",
    "print(np.mean(group2[group2[name]>-1][name]))\n",
    "print('pvalue')\n",
    "print(ttest_ind(group1[group1[name]>-1][name],group2[group2[name]>-1][name],equal_var=True).pvalue)"
   ]
  },
  {
   "cell_type": "code",
   "execution_count": 13,
   "id": "1a988675",
   "metadata": {},
   "outputs": [
    {
     "name": "stdout",
     "output_type": "stream",
     "text": [
      "61.Have you ever talked about cervical cancer or HPV vaccine with other parents?\n",
      "Score<=17\n",
      "0.5176908752327747\n",
      "Score>17\n",
      "0.5271629778672032\n",
      "pvalue\n",
      "0.7609026467414178\n"
     ]
    }
   ],
   "source": [
    "name = 'sec5_q61'\n",
    "print('61.Have you ever talked about cervical cancer or HPV vaccine with other parents?')\n",
    "print('Score<=17')\n",
    "print(np.mean(group1[group1[name]>-1][name]))\n",
    "print('Score>17')\n",
    "print(np.mean(group2[group2[name]>-1][name]))\n",
    "print('pvalue')\n",
    "print(ttest_ind(group1[group1[name]>-1][name],group2[group2[name]>-1][name],equal_var=True).pvalue)"
   ]
  },
  {
   "cell_type": "code",
   "execution_count": 14,
   "id": "53b551ce",
   "metadata": {},
   "outputs": [
    {
     "name": "stdout",
     "output_type": "stream",
     "text": [
      "62.How comfortable do you feel talking about cervical cancer or HPV vaccine with other parents?\n",
      "Score<=17\n",
      "2.871268656716418\n",
      "Score>17\n",
      "2.78989898989899\n",
      "pvalue\n",
      "0.005681646045006216\n"
     ]
    }
   ],
   "source": [
    "name = 'sec5_q62'\n",
    "print('62.How comfortable do you feel talking about cervical cancer or HPV vaccine with other parents?')\n",
    "print('Score<=17')\n",
    "print(np.mean(group1[group1[name]>-1][name]))\n",
    "print('Score>17')\n",
    "print(np.mean(group2[group2[name]>-1][name]))\n",
    "print('pvalue')\n",
    "print(ttest_ind(group1[group1[name]>-1][name],group2[group2[name]>-1][name],equal_var=True).pvalue)"
   ]
  },
  {
   "cell_type": "code",
   "execution_count": 15,
   "id": "d67655c6",
   "metadata": {},
   "outputs": [
    {
     "name": "stdout",
     "output_type": "stream",
     "text": [
      "61.Have you ever talked about cervical cancer or HPV vaccine with other parents?\n",
      "[[278. 262.]\n",
      " [259. 235.]]\n",
      "0.8085074068216693\n"
     ]
    }
   ],
   "source": [
    "from scipy.stats import chi2_contingency\n",
    "observed = np.zeros((2,2))\n",
    "name = 'sec5_q61'\n",
    "print('61.Have you ever talked about cervical cancer or HPV vaccine with other parents?')\n",
    "observed[0,0] = group1[name].value_counts()[1]\n",
    "observed[0,1] = group2[name].value_counts()[1]\n",
    "observed[1,0] = group1[name].value_counts()[0]\n",
    "observed[1,1] = group2[name].value_counts()[0]\n",
    "chi2, p, dof, expected = chi2_contingency(observed)\n",
    "print(observed)\n",
    "print(p)"
   ]
  },
  {
   "cell_type": "code",
   "execution_count": 16,
   "id": "5ba33ef1",
   "metadata": {},
   "outputs": [
    {
     "name": "stdout",
     "output_type": "stream",
     "text": [
      "residence\n",
      "[[285. 208.]\n",
      " [160. 172.]\n",
      " [ 92. 118.]]\n",
      "0.0008129056718502946\n"
     ]
    }
   ],
   "source": [
    "name = 'sec1_q9'\n",
    "print('residence')\n",
    "observed = np.zeros((3,2))\n",
    "observed[0,0] = group1[name].value_counts()[3]\n",
    "observed[0,1] = group2[name].value_counts()[3]\n",
    "observed[1,0] = group1[name].value_counts()[2]\n",
    "observed[1,1] = group2[name].value_counts()[2]\n",
    "observed[2,0] = group1[name].value_counts()[1]\n",
    "observed[2,1] = group2[name].value_counts()[1]\n",
    "chi2, p, dof, expected = chi2_contingency(observed)\n",
    "print(observed)\n",
    "print(p)"
   ]
  },
  {
   "cell_type": "code",
   "execution_count": 17,
   "id": "8fda8136",
   "metadata": {},
   "outputs": [
    {
     "name": "stdout",
     "output_type": "stream",
     "text": [
      "62.How comfortable do you feel talking about cervical cancer or HPV vaccine with other parents?\n",
      "[[481. 420.]\n",
      " [ 41.  46.]\n",
      " [ 14.  29.]]\n",
      "0.018024772875612945\n"
     ]
    }
   ],
   "source": [
    "from scipy.stats import chi2_contingency\n",
    "name = 'sec5_q62'\n",
    "print('62.How comfortable do you feel talking about cervical cancer or HPV vaccine with other parents?')\n",
    "observed = np.zeros((3,2))\n",
    "observed[0,0] = group1[name].value_counts()[3]\n",
    "observed[0,1] = group2[name].value_counts()[3]\n",
    "observed[1,0] = group1[name].value_counts()[2]\n",
    "observed[1,1] = group2[name].value_counts()[2]\n",
    "observed[2,0] = group1[name].value_counts()[1]\n",
    "observed[2,1] = group2[name].value_counts()[1]\n",
    "chi2, p, dof, expected = chi2_contingency(observed)\n",
    "print(observed)\n",
    "print(p)"
   ]
  },
  {
   "cell_type": "code",
   "execution_count": 18,
   "id": "948a67d2",
   "metadata": {},
   "outputs": [],
   "source": [
    "grouppos = hpvdata_cleaned[hpvdata_cleaned['HPV_VAX_attitu_s35']<12]\n",
    "groupneu = hpvdata_cleaned[hpvdata_cleaned['HPV_VAX_attitu_s35']>=12]\n",
    "groupneu = groupneu[groupneu['HPV_VAX_attitu_s35']<24]\n",
    "groupneg = hpvdata_cleaned[hpvdata_cleaned['HPV_VAX_attitu_s35']>=24]\n"
   ]
  },
  {
   "cell_type": "code",
   "execution_count": 19,
   "id": "fcdee02a",
   "metadata": {},
   "outputs": [
    {
     "data": {
      "text/plain": [
       "0.03768115942028986"
      ]
     },
     "execution_count": 19,
     "metadata": {},
     "output_type": "execute_result"
    }
   ],
   "source": [
    "len(groupneg)/len(hpvdata_cleaned)"
   ]
  },
  {
   "cell_type": "code",
   "execution_count": 20,
   "id": "983d59d2",
   "metadata": {},
   "outputs": [
    {
     "data": {
      "text/plain": [
       "0.5091787439613527"
      ]
     },
     "execution_count": 20,
     "metadata": {},
     "output_type": "execute_result"
    }
   ],
   "source": [
    "len(groupneu)/len(hpvdata_cleaned)"
   ]
  },
  {
   "cell_type": "code",
   "execution_count": 21,
   "id": "440b4251",
   "metadata": {},
   "outputs": [
    {
     "data": {
      "text/plain": [
       "0.45314009661835747"
      ]
     },
     "execution_count": 21,
     "metadata": {},
     "output_type": "execute_result"
    }
   ],
   "source": [
    "len(grouppos)/len(hpvdata_cleaned)"
   ]
  },
  {
   "cell_type": "code",
   "execution_count": 22,
   "id": "ace0409e",
   "metadata": {},
   "outputs": [
    {
     "data": {
      "text/plain": [
       "0.41025641025641024"
      ]
     },
     "execution_count": 22,
     "metadata": {},
     "output_type": "execute_result"
    }
   ],
   "source": [
    "np.mean(groupneg['sec5_q61'])"
   ]
  },
  {
   "cell_type": "code",
   "execution_count": 23,
   "id": "60abd7ff",
   "metadata": {},
   "outputs": [
    {
     "data": {
      "text/plain": [
       "0.5475285171102662"
      ]
     },
     "execution_count": 23,
     "metadata": {},
     "output_type": "execute_result"
    }
   ],
   "source": [
    "np.mean(groupneu['sec5_q61'])"
   ]
  },
  {
   "cell_type": "code",
   "execution_count": 24,
   "id": "ee43c53b",
   "metadata": {},
   "outputs": [
    {
     "data": {
      "text/plain": [
       "0.5031982942430704"
      ]
     },
     "execution_count": 24,
     "metadata": {},
     "output_type": "execute_result"
    }
   ],
   "source": [
    "np.mean(grouppos['sec5_q61'])"
   ]
  },
  {
   "cell_type": "code",
   "execution_count": 25,
   "id": "6cf109b4",
   "metadata": {},
   "outputs": [],
   "source": [
    "vars_ =  {}\n",
    "for idx in corrmatrix.index:\n",
    "    if abs(corrmatrix['sec5_q61'][idx])>0.1:\n",
    "        vars_[idx] = corrmatrix['sec5_q61'][idx]"
   ]
  },
  {
   "cell_type": "code",
   "execution_count": 26,
   "id": "093abe85",
   "metadata": {},
   "outputs": [
    {
     "data": {
      "text/plain": [
       "{'sec1_q3': -0.21440486745363035,\n",
       " 'sec1_q4': 0.17023599508296416,\n",
       " 'sec4_q56': -0.18303400240134005,\n",
       " 'sec5_q59': 0.3096729116213058,\n",
       " 'sec5_q61': 1.0,\n",
       " 'sec5_q66': 0.457182057460595,\n",
       " 'sec7_q86_1': 0.11925492112770635,\n",
       " 'sec7_q86_2': 0.1765702633140199,\n",
       " 'sec7_q86_3': -0.20871479763231943,\n",
       " 'sec7_q87': -0.15099794220887733,\n",
       " 'sec2_q18b': 0.18823485291855976,\n",
       " 'numberdoses': 0.23126615394481256,\n",
       " 'AnyHPVdoses': 0.21078953076795165,\n",
       " 'Female': 0.17023599508296405,\n",
       " 'education_a': -0.1000532760564491,\n",
       " 'education_b': 0.10639138819571126,\n",
       " 'sec5_qN64': 0.12643714209349036,\n",
       " 'sec7_qN86a': 0.20871479763231943,\n",
       " 'sec7_qN86b': 0.17869275756108477,\n",
       " 'sec7_qN87': 0.15099794220887716,\n",
       " 'sec7_q87_q88': 0.2436701493397152,\n",
       " 'sec3_qNa39': 0.10117518101768398,\n",
       " 'sec3_qNb39': 0.10117518101768398,\n",
       " 'sec3_qRa39': -0.10117518101768398,\n",
       " 'sec3_qRb39': -0.10117518101768398,\n",
       " 'sec5_qN65': 0.25071384483978393}"
      ]
     },
     "execution_count": 26,
     "metadata": {},
     "output_type": "execute_result"
    }
   ],
   "source": [
    "vars_"
   ]
  },
  {
   "cell_type": "raw",
   "id": "55fb85c2",
   "metadata": {},
   "source": [
    "sec1_q4\t4.     Are you male or female?\n",
    "sec1_q5\t5.    What is the highest level of school you completed?\n",
    "sec1_q6\t6.What is your current employment status?\n",
    "sec1_q7\t7.  What is your current marital status?\n",
    "sec1_q8\t8    Over the past 12 months, how would you describe your household income?\n",
    "sec1_q9\t9.   How would you describe the area where you live at present? Is it a…\n",
    "sec1_q10\t10  Where are you now, while we are doing this survey?\n",
    "sec1_q11\t11.  What tasks can you do on a mobile phone? "
   ]
  },
  {
   "cell_type": "code",
   "execution_count": 27,
   "id": "2bf8c70f",
   "metadata": {},
   "outputs": [],
   "source": [
    "selected_data = hpvdata_cleaned[['HPV_VAX_attitu_s35','sec5_q61','age','sec1_q5','sec1_q6','sec1_q7','sec1_q8','sec1_q9','education_a']]\n",
    "data = selected_data.dropna()\n",
    "df_encoded = pd.get_dummies(data[['age','sec1_q5','sec1_q6','sec1_q7','sec1_q8','sec1_q9','education_a']], columns=['sec1_q5','sec1_q6','sec1_q7','sec1_q8','sec1_q9','education_a'])\n"
   ]
  },
  {
   "cell_type": "code",
   "execution_count": 39,
   "id": "5db27221",
   "metadata": {},
   "outputs": [],
   "source": [
    "y = data['HPV_VAX_attitu_s35'].values.copy()\n",
    "X = df_encoded.values.copy()\n",
    "for i in range(len(y)):\n",
    "    if y[i]>=20:\n",
    "        y[i] = 1\n",
    "    else:\n",
    "        y[i] = 0"
   ]
  },
  {
   "cell_type": "code",
   "execution_count": 40,
   "id": "92ae20f0",
   "metadata": {},
   "outputs": [],
   "source": [
    "X_train, X_test, y_train, y_test = train_test_split(X, y, test_size=0.3, random_state=42)"
   ]
  },
  {
   "cell_type": "code",
   "execution_count": 41,
   "id": "12bc0707",
   "metadata": {},
   "outputs": [],
   "source": [
    "class_weights = {0: 1.0, 1: 1}\n",
    "svc = SVC(kernel='rbf', probability=True, class_weight=class_weights)\n",
    "param_grid = {'C': [0.1, 1, 10]}\n"
   ]
  },
  {
   "cell_type": "code",
   "execution_count": 42,
   "id": "dadf9e51",
   "metadata": {},
   "outputs": [
    {
     "data": {
      "text/html": [
       "<style>#sk-container-id-3 {color: black;background-color: white;}#sk-container-id-3 pre{padding: 0;}#sk-container-id-3 div.sk-toggleable {background-color: white;}#sk-container-id-3 label.sk-toggleable__label {cursor: pointer;display: block;width: 100%;margin-bottom: 0;padding: 0.3em;box-sizing: border-box;text-align: center;}#sk-container-id-3 label.sk-toggleable__label-arrow:before {content: \"▸\";float: left;margin-right: 0.25em;color: #696969;}#sk-container-id-3 label.sk-toggleable__label-arrow:hover:before {color: black;}#sk-container-id-3 div.sk-estimator:hover label.sk-toggleable__label-arrow:before {color: black;}#sk-container-id-3 div.sk-toggleable__content {max-height: 0;max-width: 0;overflow: hidden;text-align: left;background-color: #f0f8ff;}#sk-container-id-3 div.sk-toggleable__content pre {margin: 0.2em;color: black;border-radius: 0.25em;background-color: #f0f8ff;}#sk-container-id-3 input.sk-toggleable__control:checked~div.sk-toggleable__content {max-height: 200px;max-width: 100%;overflow: auto;}#sk-container-id-3 input.sk-toggleable__control:checked~label.sk-toggleable__label-arrow:before {content: \"▾\";}#sk-container-id-3 div.sk-estimator input.sk-toggleable__control:checked~label.sk-toggleable__label {background-color: #d4ebff;}#sk-container-id-3 div.sk-label input.sk-toggleable__control:checked~label.sk-toggleable__label {background-color: #d4ebff;}#sk-container-id-3 input.sk-hidden--visually {border: 0;clip: rect(1px 1px 1px 1px);clip: rect(1px, 1px, 1px, 1px);height: 1px;margin: -1px;overflow: hidden;padding: 0;position: absolute;width: 1px;}#sk-container-id-3 div.sk-estimator {font-family: monospace;background-color: #f0f8ff;border: 1px dotted black;border-radius: 0.25em;box-sizing: border-box;margin-bottom: 0.5em;}#sk-container-id-3 div.sk-estimator:hover {background-color: #d4ebff;}#sk-container-id-3 div.sk-parallel-item::after {content: \"\";width: 100%;border-bottom: 1px solid gray;flex-grow: 1;}#sk-container-id-3 div.sk-label:hover label.sk-toggleable__label {background-color: #d4ebff;}#sk-container-id-3 div.sk-serial::before {content: \"\";position: absolute;border-left: 1px solid gray;box-sizing: border-box;top: 0;bottom: 0;left: 50%;z-index: 0;}#sk-container-id-3 div.sk-serial {display: flex;flex-direction: column;align-items: center;background-color: white;padding-right: 0.2em;padding-left: 0.2em;position: relative;}#sk-container-id-3 div.sk-item {position: relative;z-index: 1;}#sk-container-id-3 div.sk-parallel {display: flex;align-items: stretch;justify-content: center;background-color: white;position: relative;}#sk-container-id-3 div.sk-item::before, #sk-container-id-3 div.sk-parallel-item::before {content: \"\";position: absolute;border-left: 1px solid gray;box-sizing: border-box;top: 0;bottom: 0;left: 50%;z-index: -1;}#sk-container-id-3 div.sk-parallel-item {display: flex;flex-direction: column;z-index: 1;position: relative;background-color: white;}#sk-container-id-3 div.sk-parallel-item:first-child::after {align-self: flex-end;width: 50%;}#sk-container-id-3 div.sk-parallel-item:last-child::after {align-self: flex-start;width: 50%;}#sk-container-id-3 div.sk-parallel-item:only-child::after {width: 0;}#sk-container-id-3 div.sk-dashed-wrapped {border: 1px dashed gray;margin: 0 0.4em 0.5em 0.4em;box-sizing: border-box;padding-bottom: 0.4em;background-color: white;}#sk-container-id-3 div.sk-label label {font-family: monospace;font-weight: bold;display: inline-block;line-height: 1.2em;}#sk-container-id-3 div.sk-label-container {text-align: center;}#sk-container-id-3 div.sk-container {/* jupyter's `normalize.less` sets `[hidden] { display: none; }` but bootstrap.min.css set `[hidden] { display: none !important; }` so we also need the `!important` here to be able to override the default hidden behavior on the sphinx rendered scikit-learn.org. See: https://github.com/scikit-learn/scikit-learn/issues/21755 */display: inline-block !important;position: relative;}#sk-container-id-3 div.sk-text-repr-fallback {display: none;}</style><div id=\"sk-container-id-3\" class=\"sk-top-container\"><div class=\"sk-text-repr-fallback\"><pre>GridSearchCV(cv=5, estimator=SVC(class_weight={0: 1.0, 1: 1}, probability=True),\n",
       "             param_grid={&#x27;C&#x27;: [0.1, 1, 10]}, scoring=&#x27;roc_auc&#x27;)</pre><b>In a Jupyter environment, please rerun this cell to show the HTML representation or trust the notebook. <br />On GitHub, the HTML representation is unable to render, please try loading this page with nbviewer.org.</b></div><div class=\"sk-container\" hidden><div class=\"sk-item sk-dashed-wrapped\"><div class=\"sk-label-container\"><div class=\"sk-label sk-toggleable\"><input class=\"sk-toggleable__control sk-hidden--visually\" id=\"sk-estimator-id-5\" type=\"checkbox\" ><label for=\"sk-estimator-id-5\" class=\"sk-toggleable__label sk-toggleable__label-arrow\">GridSearchCV</label><div class=\"sk-toggleable__content\"><pre>GridSearchCV(cv=5, estimator=SVC(class_weight={0: 1.0, 1: 1}, probability=True),\n",
       "             param_grid={&#x27;C&#x27;: [0.1, 1, 10]}, scoring=&#x27;roc_auc&#x27;)</pre></div></div></div><div class=\"sk-parallel\"><div class=\"sk-parallel-item\"><div class=\"sk-item\"><div class=\"sk-label-container\"><div class=\"sk-label sk-toggleable\"><input class=\"sk-toggleable__control sk-hidden--visually\" id=\"sk-estimator-id-6\" type=\"checkbox\" ><label for=\"sk-estimator-id-6\" class=\"sk-toggleable__label sk-toggleable__label-arrow\">estimator: SVC</label><div class=\"sk-toggleable__content\"><pre>SVC(class_weight={0: 1.0, 1: 1}, probability=True)</pre></div></div></div><div class=\"sk-serial\"><div class=\"sk-item\"><div class=\"sk-estimator sk-toggleable\"><input class=\"sk-toggleable__control sk-hidden--visually\" id=\"sk-estimator-id-7\" type=\"checkbox\" ><label for=\"sk-estimator-id-7\" class=\"sk-toggleable__label sk-toggleable__label-arrow\">SVC</label><div class=\"sk-toggleable__content\"><pre>SVC(class_weight={0: 1.0, 1: 1}, probability=True)</pre></div></div></div></div></div></div></div></div></div></div>"
      ],
      "text/plain": [
       "GridSearchCV(cv=5, estimator=SVC(class_weight={0: 1.0, 1: 1}, probability=True),\n",
       "             param_grid={'C': [0.1, 1, 10]}, scoring='roc_auc')"
      ]
     },
     "execution_count": 42,
     "metadata": {},
     "output_type": "execute_result"
    }
   ],
   "source": [
    "grid_search = GridSearchCV(estimator=svc, param_grid=param_grid, cv=5, scoring='roc_auc')\n",
    "grid_search.fit(X_train, y_train)"
   ]
  },
  {
   "cell_type": "code",
   "execution_count": 43,
   "id": "f95b194d",
   "metadata": {},
   "outputs": [],
   "source": [
    "best_C = grid_search.best_params_['C']\n",
    "best_svc = grid_search.best_estimator_"
   ]
  },
  {
   "cell_type": "code",
   "execution_count": 44,
   "id": "00fc71cc",
   "metadata": {},
   "outputs": [
    {
     "data": {
      "text/html": [
       "<style>#sk-container-id-4 {color: black;background-color: white;}#sk-container-id-4 pre{padding: 0;}#sk-container-id-4 div.sk-toggleable {background-color: white;}#sk-container-id-4 label.sk-toggleable__label {cursor: pointer;display: block;width: 100%;margin-bottom: 0;padding: 0.3em;box-sizing: border-box;text-align: center;}#sk-container-id-4 label.sk-toggleable__label-arrow:before {content: \"▸\";float: left;margin-right: 0.25em;color: #696969;}#sk-container-id-4 label.sk-toggleable__label-arrow:hover:before {color: black;}#sk-container-id-4 div.sk-estimator:hover label.sk-toggleable__label-arrow:before {color: black;}#sk-container-id-4 div.sk-toggleable__content {max-height: 0;max-width: 0;overflow: hidden;text-align: left;background-color: #f0f8ff;}#sk-container-id-4 div.sk-toggleable__content pre {margin: 0.2em;color: black;border-radius: 0.25em;background-color: #f0f8ff;}#sk-container-id-4 input.sk-toggleable__control:checked~div.sk-toggleable__content {max-height: 200px;max-width: 100%;overflow: auto;}#sk-container-id-4 input.sk-toggleable__control:checked~label.sk-toggleable__label-arrow:before {content: \"▾\";}#sk-container-id-4 div.sk-estimator input.sk-toggleable__control:checked~label.sk-toggleable__label {background-color: #d4ebff;}#sk-container-id-4 div.sk-label input.sk-toggleable__control:checked~label.sk-toggleable__label {background-color: #d4ebff;}#sk-container-id-4 input.sk-hidden--visually {border: 0;clip: rect(1px 1px 1px 1px);clip: rect(1px, 1px, 1px, 1px);height: 1px;margin: -1px;overflow: hidden;padding: 0;position: absolute;width: 1px;}#sk-container-id-4 div.sk-estimator {font-family: monospace;background-color: #f0f8ff;border: 1px dotted black;border-radius: 0.25em;box-sizing: border-box;margin-bottom: 0.5em;}#sk-container-id-4 div.sk-estimator:hover {background-color: #d4ebff;}#sk-container-id-4 div.sk-parallel-item::after {content: \"\";width: 100%;border-bottom: 1px solid gray;flex-grow: 1;}#sk-container-id-4 div.sk-label:hover label.sk-toggleable__label {background-color: #d4ebff;}#sk-container-id-4 div.sk-serial::before {content: \"\";position: absolute;border-left: 1px solid gray;box-sizing: border-box;top: 0;bottom: 0;left: 50%;z-index: 0;}#sk-container-id-4 div.sk-serial {display: flex;flex-direction: column;align-items: center;background-color: white;padding-right: 0.2em;padding-left: 0.2em;position: relative;}#sk-container-id-4 div.sk-item {position: relative;z-index: 1;}#sk-container-id-4 div.sk-parallel {display: flex;align-items: stretch;justify-content: center;background-color: white;position: relative;}#sk-container-id-4 div.sk-item::before, #sk-container-id-4 div.sk-parallel-item::before {content: \"\";position: absolute;border-left: 1px solid gray;box-sizing: border-box;top: 0;bottom: 0;left: 50%;z-index: -1;}#sk-container-id-4 div.sk-parallel-item {display: flex;flex-direction: column;z-index: 1;position: relative;background-color: white;}#sk-container-id-4 div.sk-parallel-item:first-child::after {align-self: flex-end;width: 50%;}#sk-container-id-4 div.sk-parallel-item:last-child::after {align-self: flex-start;width: 50%;}#sk-container-id-4 div.sk-parallel-item:only-child::after {width: 0;}#sk-container-id-4 div.sk-dashed-wrapped {border: 1px dashed gray;margin: 0 0.4em 0.5em 0.4em;box-sizing: border-box;padding-bottom: 0.4em;background-color: white;}#sk-container-id-4 div.sk-label label {font-family: monospace;font-weight: bold;display: inline-block;line-height: 1.2em;}#sk-container-id-4 div.sk-label-container {text-align: center;}#sk-container-id-4 div.sk-container {/* jupyter's `normalize.less` sets `[hidden] { display: none; }` but bootstrap.min.css set `[hidden] { display: none !important; }` so we also need the `!important` here to be able to override the default hidden behavior on the sphinx rendered scikit-learn.org. See: https://github.com/scikit-learn/scikit-learn/issues/21755 */display: inline-block !important;position: relative;}#sk-container-id-4 div.sk-text-repr-fallback {display: none;}</style><div id=\"sk-container-id-4\" class=\"sk-top-container\"><div class=\"sk-text-repr-fallback\"><pre>SVC(C=0.1, class_weight={0: 1.0, 1: 1}, probability=True)</pre><b>In a Jupyter environment, please rerun this cell to show the HTML representation or trust the notebook. <br />On GitHub, the HTML representation is unable to render, please try loading this page with nbviewer.org.</b></div><div class=\"sk-container\" hidden><div class=\"sk-item\"><div class=\"sk-estimator sk-toggleable\"><input class=\"sk-toggleable__control sk-hidden--visually\" id=\"sk-estimator-id-8\" type=\"checkbox\" checked><label for=\"sk-estimator-id-8\" class=\"sk-toggleable__label sk-toggleable__label-arrow\">SVC</label><div class=\"sk-toggleable__content\"><pre>SVC(C=0.1, class_weight={0: 1.0, 1: 1}, probability=True)</pre></div></div></div></div></div>"
      ],
      "text/plain": [
       "SVC(C=0.1, class_weight={0: 1.0, 1: 1}, probability=True)"
      ]
     },
     "execution_count": 44,
     "metadata": {},
     "output_type": "execute_result"
    }
   ],
   "source": [
    "best_svc"
   ]
  },
  {
   "cell_type": "code",
   "execution_count": 45,
   "id": "9f7ac6a5",
   "metadata": {},
   "outputs": [],
   "source": [
    "y_pred = best_svc.predict(X_test)"
   ]
  },
  {
   "cell_type": "code",
   "execution_count": 46,
   "id": "6096aa6a",
   "metadata": {},
   "outputs": [
    {
     "name": "stdout",
     "output_type": "stream",
     "text": [
      "Accuracy: 0.797427652733119\n"
     ]
    }
   ],
   "source": [
    "accuracy = accuracy_score(y_test, y_pred)\n",
    "print(\"Accuracy:\", accuracy)"
   ]
  },
  {
   "cell_type": "code",
   "execution_count": 47,
   "id": "11bd5974",
   "metadata": {},
   "outputs": [
    {
     "data": {
      "text/plain": [
       "array([0., 0., 0., 0., 0., 0., 0., 0., 0., 0., 0., 0., 0., 0., 0., 0., 0.,\n",
       "       0., 0., 0., 0., 0., 0., 0., 0., 0., 0., 0., 0., 0., 0., 0., 0., 0.,\n",
       "       0., 0., 0., 0., 0., 0., 0., 0., 0., 0., 0., 0., 0., 0., 0., 0., 0.,\n",
       "       0., 0., 0., 0., 0., 0., 0., 0., 0., 0., 0., 0., 0., 0., 0., 0., 0.,\n",
       "       0., 0., 0., 0., 0., 0., 0., 0., 0., 0., 0., 0., 0., 0., 0., 0., 0.,\n",
       "       0., 0., 0., 0., 0., 0., 0., 0., 0., 0., 0., 0., 0., 0., 0., 0., 0.,\n",
       "       0., 0., 0., 0., 0., 0., 0., 0., 0., 0., 0., 0., 0., 0., 0., 0., 0.,\n",
       "       0., 0., 0., 0., 0., 0., 0., 0., 0., 0., 0., 0., 0., 0., 0., 0., 0.,\n",
       "       0., 0., 0., 0., 0., 0., 0., 0., 0., 0., 0., 0., 0., 0., 0., 0., 0.,\n",
       "       0., 0., 0., 0., 0., 0., 0., 0., 0., 0., 0., 0., 0., 0., 0., 0., 0.,\n",
       "       0., 0., 0., 0., 0., 0., 0., 0., 0., 0., 0., 0., 0., 0., 0., 0., 0.,\n",
       "       0., 0., 0., 0., 0., 0., 0., 0., 0., 0., 0., 0., 0., 0., 0., 0., 0.,\n",
       "       0., 0., 0., 0., 0., 0., 0., 0., 0., 0., 0., 0., 0., 0., 0., 0., 0.,\n",
       "       0., 0., 0., 0., 0., 0., 0., 0., 0., 0., 0., 0., 0., 0., 0., 0., 0.,\n",
       "       0., 0., 0., 0., 0., 0., 0., 0., 0., 0., 0., 0., 0., 0., 0., 0., 0.,\n",
       "       0., 0., 0., 0., 0., 0., 0., 0., 0., 0., 0., 0., 0., 0., 0., 0., 0.,\n",
       "       0., 0., 0., 0., 0., 0., 0., 0., 0., 0., 0., 0., 0., 0., 0., 0., 0.,\n",
       "       0., 0., 0., 0., 0., 0., 0., 0., 0., 0., 0., 0., 0., 0., 0., 0., 0.,\n",
       "       0., 0., 0., 0., 0.])"
      ]
     },
     "execution_count": 47,
     "metadata": {},
     "output_type": "execute_result"
    }
   ],
   "source": [
    "y_pred"
   ]
  },
  {
   "cell_type": "code",
   "execution_count": 37,
   "id": "a2a3b625",
   "metadata": {},
   "outputs": [],
   "source": [
    "y_scores = best_svc.predict_proba(X_test)[:, 1]"
   ]
  },
  {
   "cell_type": "code",
   "execution_count": 38,
   "id": "88d357ad",
   "metadata": {},
   "outputs": [
    {
     "data": {
      "image/png": "[encoded data removed]",
      "text/plain": [
       "<Figure size 800x600 with 1 Axes>"
      ]
     },
     "metadata": {},
     "output_type": "display_data"
    }
   ],
   "source": [
    "# Calculate ROC curve and AUC\n",
    "fpr, tpr, _ = roc_curve(y_test, y_scores)\n",
    "roc_auc = auc(fpr, tpr)\n",
    "\n",
    "# Plot ROC curve\n",
    "plt.figure(figsize=(8, 6))\n",
    "plt.plot(fpr, tpr, color='darkorange', lw=2, label=f'ROC curve (AUC = {roc_auc:.2f})')\n",
    "plt.plot([0, 1], [0, 1], color='navy', lw=2, linestyle='--')\n",
    "plt.xlim([0.0, 1.0])\n",
    "plt.ylim([0.0, 1.05])\n",
    "plt.xlabel('False Positive Rate')\n",
    "plt.ylabel('True Positive Rate')\n",
    "plt.title('Receiver Operating Characteristic (ROC) Curve')\n",
    "plt.legend(loc='lower right')\n",
    "plt.show()\n",
    "\n"
   ]
  },
  {
   "cell_type": "code",
   "execution_count": null,
   "id": "90023fce",
   "metadata": {},
   "outputs": [],
   "source": []
  }
 ],
 "metadata": {
  "kernelspec": {
   "display_name": "Python 3 (ipykernel)",
   "language": "python",
   "name": "python3"
  },
  "language_info": {
   "codemirror_mode": {
    "name": "ipython",
    "version": 3
   },
   "file_extension": ".py",
   "mimetype": "text/x-python",
   "name": "python",
   "nbconvert_exporter": "python",
   "pygments_lexer": "ipython3",
   "version": "3.9.13"
  },
  "varInspector": {
   "cols": {
    "lenName": 16,
    "lenType": 16,
    "lenVar": 40
   },
   "kernels_config": {
    "python": {
     "delete_cmd_postfix": "",
     "delete_cmd_prefix": "del ",
     "library": "var_list.py",
     "varRefreshCmd": "print(var_dic_list())"
    },
    "r": {
     "delete_cmd_postfix": ") ",
     "delete_cmd_prefix": "rm(",
     "library": "var_list.r",
     "varRefreshCmd": "cat(var_dic_list()) "
    }
   },
   "types_to_exclude": [
    "module",
    "function",
    "builtin_function_or_method",
    "instance",
    "_Feature"
   ],
   "window_display": false
  }
 },
 "nbformat": 4,
 "nbformat_minor": 5
}
