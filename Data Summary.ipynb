{
 "cells": [
  {
   "cell_type": "code",
   "execution_count": 1,
   "id": "352b0e0e",
   "metadata": {},
   "outputs": [
    {
     "name": "stdout",
     "output_type": "stream",
     "text": [
      "Intel MKL WARNING: Support of Intel(R) Streaming SIMD Extensions 4.2 (Intel(R) SSE4.2) enabled only processors has been deprecated. Intel oneAPI Math Kernel Library 2025.0 will require Intel(R) Advanced Vector Extensions (Intel(R) AVX) instructions.\n",
      "Intel MKL WARNING: Support of Intel(R) Streaming SIMD Extensions 4.2 (Intel(R) SSE4.2) enabled only processors has been deprecated. Intel oneAPI Math Kernel Library 2025.0 will require Intel(R) Advanced Vector Extensions (Intel(R) AVX) instructions.\n"
     ]
    }
   ],
   "source": [
    "from scipy.stats import ttest_ind\n",
    "import pandas as pd"
   ]
  },
  {
   "cell_type": "code",
   "execution_count": 2,
   "id": "2af35aec",
   "metadata": {},
   "outputs": [
    {
     "name": "stderr",
     "output_type": "stream",
     "text": [
      "/var/folders/b3/kkdtnh4d4gjgrk45d_yrf4100000gn/T/ipykernel_92308/3811312610.py:3: DtypeWarning: Columns (43) have mixed types. Specify dtype option on import or set low_memory=False.\n",
      "  hpvdata = pd.read_csv(file_path)\n"
     ]
    }
   ],
   "source": [
    "#read the data\n",
    "file_path = 'hpvdata.csv'\n",
    "hpvdata = pd.read_csv(file_path)"
   ]
  },
  {
   "cell_type": "code",
   "execution_count": 3,
   "id": "2d607d36",
   "metadata": {},
   "outputs": [],
   "source": [
    "#filter out all records that has NA values on VAX attitude\n",
    "hpvdata_cleaned = hpvdata.dropna(subset=['HPV_VAX_attitu_s35'])"
   ]
  },
  {
   "cell_type": "code",
   "execution_count": 4,
   "id": "822e5522",
   "metadata": {},
   "outputs": [],
   "source": [
    "# Calculate the percentage of available (non-missing) values in each column\n",
    "available_percentage = 100 - ((hpvdata_cleaned.isnull().sum() / len(hpvdata_cleaned)) * 100)\n",
    "# Identify columns with more than 50% available values\n",
    "columns_to_select = available_percentage[available_percentage > 50].index\n",
    "# Select the columns from the DataFrame\n",
    "hpvdata_cleaned = hpvdata_cleaned[columns_to_select]"
   ]
  },
  {
   "cell_type": "code",
   "execution_count": 5,
   "id": "a4d38c09",
   "metadata": {},
   "outputs": [
    {
     "name": "stderr",
     "output_type": "stream",
     "text": [
      "/var/folders/b3/kkdtnh4d4gjgrk45d_yrf4100000gn/T/ipykernel_92308/481184728.py:2: FutureWarning: The default value of numeric_only in DataFrame.corr is deprecated. In a future version, it will default to False. Select only valid columns or specify the value of numeric_only to silence this warning.\n",
      "  corrmatrix  = hpvdata_cleaned.corr()\n"
     ]
    }
   ],
   "source": [
    "# Generate correlation matrix\n",
    "corrmatrix  = hpvdata_cleaned.corr()"
   ]
  },
  {
   "cell_type": "code",
   "execution_count": 6,
   "id": "9fe16ad2",
   "metadata": {},
   "outputs": [],
   "source": [
    "vars_ =  {}\n",
    "for idx in corrmatrix.index:\n",
    "    if abs(corrmatrix['HPV_VAX_attitu_s35'][idx])>0.7:\n",
    "        vars_[idx] = corrmatrix['HPV_VAX_attitu_s35'][idx]"
   ]
  },
  {
   "cell_type": "code",
   "execution_count": 7,
   "id": "3b6c7077",
   "metadata": {},
   "outputs": [
    {
     "data": {
      "text/plain": [
       "{'sec3_qNa40': -0.8194895556300539,\n",
       " 'sec3_qNa41': -0.8288331487679043,\n",
       " 'sec3_qNa42': -0.7710387294314973,\n",
       " 'sec3_qNb40': -0.8194895556300539,\n",
       " 'sec3_qNb41': -0.8288331487679043,\n",
       " 'sec3_qNb42': -0.7710387294314973,\n",
       " 'sec3_qRa40': 0.8194895556300534,\n",
       " 'sec3_qRa41': 0.8288331487679041,\n",
       " 'sec3_qRa42': 0.7710387294314969,\n",
       " 'sec3_qRb40': 0.8194895556300534,\n",
       " 'sec3_qRb41': 0.8288331487679041,\n",
       " 'sec3_qRb42': 0.7710387294314969,\n",
       " 'HPV_VAX_attitu_s35': 1.0,\n",
       " 'HPV_VAX_attitu_s7a': 0.9772577624729988,\n",
       " 'HPV_VAX_attitu_s7b': 0.9772577624729988}"
      ]
     },
     "execution_count": 7,
     "metadata": {},
     "output_type": "execute_result"
    }
   ],
   "source": [
    "# highly correlated variables\n",
    "vars_"
   ]
  },
  {
   "cell_type": "code",
   "execution_count": 8,
   "id": "b76425e8",
   "metadata": {},
   "outputs": [
    {
     "data": {
      "text/plain": [
       "0       14.0\n",
       "1        7.0\n",
       "2       20.0\n",
       "3       23.0\n",
       "4       20.0\n",
       "        ... \n",
       "1339     7.0\n",
       "1343    16.0\n",
       "1344     7.0\n",
       "1345    10.0\n",
       "1346     7.0\n",
       "Name: HPV_VAX_attitu_s35, Length: 1035, dtype: float64"
      ]
     },
     "execution_count": 8,
     "metadata": {},
     "output_type": "execute_result"
    }
   ],
   "source": [
    "hpvdata_cleaned['HPV_VAX_attitu_s35']\n",
    "#higher the value, more negative"
   ]
  },
  {
   "cell_type": "code",
   "execution_count": 11,
   "id": "10993e3c",
   "metadata": {},
   "outputs": [
    {
     "data": {
      "image/png": "[encoded data removed]",
      "text/plain": [
       "<Figure size 640x480 with 1 Axes>"
      ]
     },
     "metadata": {},
     "output_type": "display_data"
    }
   ],
   "source": [
    "import matplotlib.pyplot as plt\n",
    "plt.hist(hpvdata_cleaned['HPV_VAX_attitu_s35'], bins=10, edgecolor='black')  # Adjust 'bins' parameter as needed\n",
    "plt.title('Histogram')\n",
    "plt.xlabel('Value')\n",
    "plt.ylabel('Frequency')\n",
    "plt.show()"
   ]
  },
  {
   "cell_type": "code",
   "execution_count": 14,
   "id": "7cd39565",
   "metadata": {},
   "outputs": [
    {
     "name": "stdout",
     "output_type": "stream",
     "text": [
      "median: 14.0\n"
     ]
    }
   ],
   "source": [
    "print('median:',np.median(hpvdata_cleaned['HPV_VAX_attitu_s35']))\n",
    "group1 = hpvdata_cleaned[hpvdata_cleaned['HPV_VAX_attitu_s35']<=14]\n",
    "group2 = hpvdata_cleaned[hpvdata_cleaned['HPV_VAX_attitu_s35']>14]"
   ]
  },
  {
   "cell_type": "code",
   "execution_count": 15,
   "id": "ed22898c",
   "metadata": {},
   "outputs": [
    {
     "name": "stdout",
     "output_type": "stream",
     "text": [
      "age\n",
      "Score<=14\n",
      "40.02420856610801\n",
      "Score>14\n",
      "37.70281124497992\n",
      "pvalue\n",
      "0.00010547514454224569\n"
     ]
    }
   ],
   "source": [
    "name = 'age'\n",
    "print(name)\n",
    "print('Score<=14')\n",
    "print(np.mean(group1[name]))\n",
    "print('Score>14')\n",
    "print(np.mean(group2[name]))\n",
    "print('pvalue')\n",
    "print(ttest_ind(group1[name],group2[name],equal_var=True).pvalue)"
   ]
  },
  {
   "cell_type": "code",
   "execution_count": 16,
   "id": "4a2bba18",
   "metadata": {},
   "outputs": [
    {
     "name": "stdout",
     "output_type": "stream",
     "text": [
      "household income\n",
      "Score<=17\n",
      "3.921787709497207\n",
      "Score>17\n",
      "3.8089430894308944\n",
      "pvalue\n",
      "0.10788887072652387\n"
     ]
    }
   ],
   "source": [
    "name = 'sec1_q8'\n",
    "print('household income')\n",
    "print('Score<=17')\n",
    "print(np.mean(group1[group1[name]>-1][name]))\n",
    "print('Score>17')\n",
    "print(np.mean(group2[group2[name]>-1][name]))\n",
    "print('pvalue')\n",
    "print(ttest_ind(group1[group1[name]>-1][name],group2[group2[name]>-1][name],equal_var=True).pvalue)"
   ]
  },
  {
   "cell_type": "code",
   "execution_count": 17,
   "id": "d67655c6",
   "metadata": {},
   "outputs": [
    {
     "name": "stdout",
     "output_type": "stream",
     "text": [
      "[[240. 200.]\n",
      " [ 68.  69.]\n",
      " [185. 170.]\n",
      " [ 35.  35.]\n",
      " [  9.  18.]\n",
      " [  0.   6.]]\n",
      "0.03727051581155899\n"
     ]
    }
   ],
   "source": [
    "from scipy.stats import chi2_contingency\n",
    "observed = np.zeros((6,2))\n",
    "observed[0,0] = group1[name].value_counts()[5]\n",
    "observed[0,1] = group2[name].value_counts()[5]\n",
    "observed[1,0] = group1[name].value_counts()[4]\n",
    "observed[1,1] = group2[name].value_counts()[4]\n",
    "observed[2,0] = group1[name].value_counts()[3]\n",
    "observed[2,1] = group2[name].value_counts()[3]\n",
    "observed[3,0] = group1[name].value_counts()[2]\n",
    "observed[3,1] = group2[name].value_counts()[2]\n",
    "observed[4,0] = group1[name].value_counts()[1]\n",
    "observed[4,1] = group2[name].value_counts()[1]\n",
    "observed[5,0] = 0\n",
    "observed[5,1] = group2[name].value_counts()[-999]\n",
    "chi2, p, dof, expected = chi2_contingency(observed)\n",
    "print(observed)\n",
    "print(p)"
   ]
  },
  {
   "cell_type": "code",
   "execution_count": 18,
   "id": "f7e22107",
   "metadata": {},
   "outputs": [
    {
     "name": "stdout",
     "output_type": "stream",
     "text": [
      "residence\n",
      "Score<=17\n",
      "2.359404096834264\n",
      "Score>17\n",
      "2.180722891566265\n",
      "pvalue\n",
      "0.00021387954906117512\n"
     ]
    }
   ],
   "source": [
    "name = 'sec1_q9'\n",
    "print('residence')\n",
    "print('Score<=17')\n",
    "print(np.mean(group1[group1[name]>-1][name]))\n",
    "print('Score>17')\n",
    "print(np.mean(group2[group2[name]>-1][name]))\n",
    "print('pvalue')\n",
    "print(ttest_ind(group1[group1[name]>-1][name],group2[group2[name]>-1][name],equal_var=True).pvalue)"
   ]
  },
  {
   "cell_type": "code",
   "execution_count": 19,
   "id": "5ba33ef1",
   "metadata": {},
   "outputs": [
    {
     "name": "stdout",
     "output_type": "stream",
     "text": [
      "[[285. 208.]\n",
      " [160. 172.]\n",
      " [ 92. 118.]]\n",
      "0.0008129056718502946\n"
     ]
    }
   ],
   "source": [
    "observed = np.zeros((3,2))\n",
    "observed[0,0] = group1[name].value_counts()[3]\n",
    "observed[0,1] = group2[name].value_counts()[3]\n",
    "observed[1,0] = group1[name].value_counts()[2]\n",
    "observed[1,1] = group2[name].value_counts()[2]\n",
    "observed[2,0] = group1[name].value_counts()[1]\n",
    "observed[2,1] = group2[name].value_counts()[1]\n",
    "chi2, p, dof, expected = chi2_contingency(observed)\n",
    "print(observed)\n",
    "print(p)"
   ]
  },
  {
   "cell_type": "code",
   "execution_count": null,
   "id": "5c2abef2",
   "metadata": {},
   "outputs": [],
   "source": [
    "np.median(hpvdata_cleaned_['HPV_VAX_attitu_s35'])"
   ]
  },
  {
   "cell_type": "code",
   "execution_count": null,
   "id": "370acb56",
   "metadata": {},
   "outputs": [],
   "source": [
    "hpvdata"
   ]
  },
  {
   "cell_type": "code",
   "execution_count": null,
   "id": "8fda8136",
   "metadata": {},
   "outputs": [],
   "source": []
  }
 ],
 "metadata": {
  "kernelspec": {
   "display_name": "Python 3 (ipykernel)",
   "language": "python",
   "name": "python3"
  },
  "language_info": {
   "codemirror_mode": {
    "name": "ipython",
    "version": 3
   },
   "file_extension": ".py",
   "mimetype": "text/x-python",
   "name": "python",
   "nbconvert_exporter": "python",
   "pygments_lexer": "ipython3",
   "version": "3.9.13"
  },
  "varInspector": {
   "cols": {
    "lenName": 16,
    "lenType": 16,
    "lenVar": 40
   },
   "kernels_config": {
    "python": {
     "delete_cmd_postfix": "",
     "delete_cmd_prefix": "del ",
     "library": "var_list.py",
     "varRefreshCmd": "print(var_dic_list())"
    },
    "r": {
     "delete_cmd_postfix": ") ",
     "delete_cmd_prefix": "rm(",
     "library": "var_list.r",
     "varRefreshCmd": "cat(var_dic_list()) "
    }
   },
   "types_to_exclude": [
    "module",
    "function",
    "builtin_function_or_method",
    "instance",
    "_Feature"
   ],
   "window_display": false
  }
 },
 "nbformat": 4,
 "nbformat_minor": 5
}
